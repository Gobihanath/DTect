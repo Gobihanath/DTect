{
  "nbformat": 4,
  "nbformat_minor": 0,
  "metadata": {
    "colab": {
      "provenance": [],
      "authorship_tag": "ABX9TyObCBG22qoKAQObgt5CNbtl",
      "include_colab_link": true
    },
    "kernelspec": {
      "name": "python3",
      "display_name": "Python 3"
    },
    "language_info": {
      "name": "python"
    }
  },
  "cells": [
    {
      "cell_type": "markdown",
      "metadata": {
        "id": "view-in-github",
        "colab_type": "text"
      },
      "source": [
        "<a href=\"https://colab.research.google.com/github/Gobihanath/DTect/blob/main/PredictionModel_Final.ipynb\" target=\"_parent\"><img src=\"https://colab.research.google.com/assets/colab-badge.svg\" alt=\"Open In Colab\"/></a>"
      ]
    },
    {
      "cell_type": "code",
      "execution_count": 1,
      "metadata": {
        "id": "NhgqnqXMz4q4"
      },
      "outputs": [],
      "source": [
        "import numpy as np\n",
        "import pandas as pd\n",
        "import matplotlib.pyplot as plt\n",
        "import tensorflow as tf\n",
        "from tensorflow import keras\n",
        "from keras import layers\n",
        "from keras.models import Sequential\n",
        "from keras.layers import Conv2D, MaxPooling2D, Flatten, Dense, Dropout,BatchNormalization\n",
        "from keras.preprocessing import image\n",
        "from keras.preprocessing.image import ImageDataGenerator\n",
        "from tensorflow.keras.layers.experimental.preprocessing import Rescaling\n",
        "import cv2\n",
        "\n",
        "input_shape = (256,256, 3)"
      ]
    },
    {
      "cell_type": "code",
      "source": [
        "from google.colab import drive\n",
        "drive.mount('/content/drive')"
      ],
      "metadata": {
        "colab": {
          "base_uri": "https://localhost:8080/"
        },
        "id": "ulwFVlgp0zlR",
        "outputId": "d8501ef6-c53c-493f-f611-30f5c764c1a2"
      },
      "execution_count": 2,
      "outputs": [
        {
          "output_type": "stream",
          "name": "stdout",
          "text": [
            "Mounted at /content/drive\n"
          ]
        }
      ]
    },
    {
      "cell_type": "code",
      "source": [
        "Image_Width = 256\n",
        "Image_Height = 256\n",
        "Image_Size = (Image_Width, Image_Height)\n",
        "Image_Channel = 3\n",
        "batch_size=128"
      ],
      "metadata": {
        "id": "Fcl3S77u00So"
      },
      "execution_count": 3,
      "outputs": []
    },
    {
      "cell_type": "code",
      "source": [
        "data_set = tf.keras.preprocessing.image_dataset_from_directory(\n",
        "    \"/content/drive/MyDrive/Dataset/Dtect | Dataset | New\",\n",
        "    seed=123,         #If you want to ensure that the shuffling of your dataset is the same across different runs, you can keep the seed value constant. If you don't care about reproducibility, you can omit the seed parameter or use a different value for each run.\n",
        "    shuffle=True,\n",
        "    image_size=Image_Size,\n",
        "    batch_size=batch_size,\n",
        "    labels=\"inferred\",\n",
        "    label_mode=\"categorical\",\n",
        "    class_names=None,\n",
        "    color_mode=\"rgb\",\n",
        "    subset=None,\n",
        "    interpolation=\"bilinear\",\n",
        "    follow_links=False,\n",
        "    crop_to_aspect_ratio=False\n",
        ")"
      ],
      "metadata": {
        "colab": {
          "base_uri": "https://localhost:8080/"
        },
        "id": "dhsghJNd02vR",
        "outputId": "3f010724-3234-475f-d22d-723cba7f1636"
      },
      "execution_count": 4,
      "outputs": [
        {
          "output_type": "stream",
          "name": "stdout",
          "text": [
            "Found 5001 files belonging to 10 classes.\n"
          ]
        }
      ]
    },
    {
      "cell_type": "code",
      "source": [
        "class_names = data_set.class_names\n",
        "class_names"
      ],
      "metadata": {
        "colab": {
          "base_uri": "https://localhost:8080/"
        },
        "id": "PMjxIyAq04zI",
        "outputId": "e1d72ad2-5a00-4873-d3e9-7315004c3deb"
      },
      "execution_count": 5,
      "outputs": [
        {
          "output_type": "execute_result",
          "data": {
            "text/plain": [
              "['Person 1',\n",
              " 'Person 10',\n",
              " 'Person 2',\n",
              " 'Person 3',\n",
              " 'Person 4',\n",
              " 'Person 5',\n",
              " 'Person 6',\n",
              " 'Person 7',\n",
              " 'Person 8',\n",
              " 'Person 9']"
            ]
          },
          "metadata": {},
          "execution_count": 5
        }
      ]
    },
    {
      "cell_type": "code",
      "source": [
        "def get_dataset_partitions_tf(data_set, train_split=0.8,  val_split=0.2, shuffle=True, shuffle_size=10000):\n",
        "    assert (train_split + val_split ) == 1\n",
        "\n",
        "    ds_size = len(data_set)\n",
        "\n",
        "    if shuffle:\n",
        "        data_set = data_set.shuffle(shuffle_size, seed=123)\n",
        "\n",
        "    train_size = int(train_split * ds_size)\n",
        "    val_size = int(val_split * ds_size)\n",
        "\n",
        "    train_ds = data_set.take(train_size)\n",
        "    val_ds = data_set.skip(train_size).take(val_size)\n",
        "\n",
        "    return train_ds, val_ds\n",
        "\n",
        "\n",
        "train_ds, val_ds = get_dataset_partitions_tf(data_set)\n",
        "\n",
        "print(len(train_ds))\n",
        "print(len(val_ds))"
      ],
      "metadata": {
        "colab": {
          "base_uri": "https://localhost:8080/"
        },
        "id": "Jhl0y2-A06zP",
        "outputId": "05e73022-2d5b-4add-fbe6-cbc82c8269ad"
      },
      "execution_count": 6,
      "outputs": [
        {
          "output_type": "stream",
          "name": "stdout",
          "text": [
            "32\n",
            "8\n"
          ]
        }
      ]
    },
    {
      "cell_type": "code",
      "source": [
        "model = Sequential()\n",
        "model.add(Rescaling(1./255, input_shape=input_shape))\n",
        "\n",
        "model.add(layers.Conv2D(16, 3, activation='relu', input_shape=input_shape))\n",
        "model.add(layers.MaxPooling2D())\n",
        "\n",
        "\n",
        "\n",
        "model.add(layers.Conv2D(32, 3, activation='relu'))\n",
        "model.add(layers.MaxPooling2D())\n",
        "\n",
        "\n",
        "model.add(layers.Conv2D(64, 3, activation='relu', input_shape=input_shape))\n",
        "model.add(layers.MaxPooling2D())\n",
        "model.add(layers.Dropout(0.2))\n",
        "\n",
        "\n",
        "model.add(layers.Flatten())\n",
        "model.add(layers.Dense(128, activation='relu'))\n",
        "model.add(layers.Dense(10,activation='softmax'))\n",
        "\n",
        "\n",
        "model.summary()"
      ],
      "metadata": {
        "colab": {
          "base_uri": "https://localhost:8080/"
        },
        "id": "2WEvuxU10_II",
        "outputId": "169f7dba-1600-4506-9b39-6f84ec9199fd"
      },
      "execution_count": 7,
      "outputs": [
        {
          "output_type": "stream",
          "name": "stdout",
          "text": [
            "Model: \"sequential\"\n",
            "_________________________________________________________________\n",
            " Layer (type)                Output Shape              Param #   \n",
            "=================================================================\n",
            " rescaling (Rescaling)       (None, 256, 256, 3)       0         \n",
            "                                                                 \n",
            " conv2d (Conv2D)             (None, 254, 254, 16)      448       \n",
            "                                                                 \n",
            " max_pooling2d (MaxPooling2  (None, 127, 127, 16)      0         \n",
            " D)                                                              \n",
            "                                                                 \n",
            " conv2d_1 (Conv2D)           (None, 125, 125, 32)      4640      \n",
            "                                                                 \n",
            " max_pooling2d_1 (MaxPoolin  (None, 62, 62, 32)        0         \n",
            " g2D)                                                            \n",
            "                                                                 \n",
            " conv2d_2 (Conv2D)           (None, 60, 60, 64)        18496     \n",
            "                                                                 \n",
            " max_pooling2d_2 (MaxPoolin  (None, 30, 30, 64)        0         \n",
            " g2D)                                                            \n",
            "                                                                 \n",
            " dropout (Dropout)           (None, 30, 30, 64)        0         \n",
            "                                                                 \n",
            " flatten (Flatten)           (None, 57600)             0         \n",
            "                                                                 \n",
            " dense (Dense)               (None, 128)               7372928   \n",
            "                                                                 \n",
            " dense_1 (Dense)             (None, 10)                1290      \n",
            "                                                                 \n",
            "=================================================================\n",
            "Total params: 7397802 (28.22 MB)\n",
            "Trainable params: 7397802 (28.22 MB)\n",
            "Non-trainable params: 0 (0.00 Byte)\n",
            "_________________________________________________________________\n"
          ]
        }
      ]
    },
    {
      "cell_type": "code",
      "source": [
        "model.compile(optimizer='adam',loss='categorical_crossentropy',metrics=['accuracy'])"
      ],
      "metadata": {
        "id": "I3jD1SzE0_ug"
      },
      "execution_count": 8,
      "outputs": []
    },
    {
      "cell_type": "code",
      "source": [
        "history  = model.fit(\n",
        "    train_ds,\n",
        "    batch_size=128,\n",
        "    validation_data=val_ds,\n",
        "    validation_steps = 8,\n",
        "    verbose=1,\n",
        "    epochs=20,\n",
        ")"
      ],
      "metadata": {
        "colab": {
          "base_uri": "https://localhost:8080/"
        },
        "id": "KAG07mvd1EVd",
        "outputId": "71a2150b-5401-4d00-bfea-393dae8933e2"
      },
      "execution_count": 9,
      "outputs": [
        {
          "output_type": "stream",
          "name": "stdout",
          "text": [
            "Epoch 1/20\n",
            "32/32 [==============================] - 1289s 16s/step - loss: 1.9443 - accuracy: 0.3103 - val_loss: 1.4688 - val_accuracy: 0.5361\n",
            "Epoch 2/20\n",
            "32/32 [==============================] - 725s 17s/step - loss: 1.2628 - accuracy: 0.5690 - val_loss: 0.8862 - val_accuracy: 0.7012\n",
            "Epoch 3/20\n",
            "32/32 [==============================] - 721s 17s/step - loss: 0.8562 - accuracy: 0.7088 - val_loss: 0.5760 - val_accuracy: 0.7949\n",
            "Epoch 4/20\n",
            "32/32 [==============================] - 740s 17s/step - loss: 0.4986 - accuracy: 0.8265 - val_loss: 0.4080 - val_accuracy: 0.8530\n",
            "Epoch 5/20\n",
            "32/32 [==============================] - 728s 17s/step - loss: 0.3430 - accuracy: 0.8796 - val_loss: 0.2664 - val_accuracy: 0.9028\n",
            "Epoch 6/20\n",
            "32/32 [==============================] - 676s 15s/step - loss: 0.2307 - accuracy: 0.9256 - val_loss: 0.1491 - val_accuracy: 0.9561\n",
            "Epoch 7/20\n",
            "32/32 [==============================] - 720s 17s/step - loss: 0.1441 - accuracy: 0.9545 - val_loss: 0.0936 - val_accuracy: 0.9766\n",
            "Epoch 8/20\n",
            "32/32 [==============================] - 718s 17s/step - loss: 0.1304 - accuracy: 0.9613 - val_loss: 0.1198 - val_accuracy: 0.9570\n",
            "Epoch 9/20\n",
            "32/32 [==============================] - 719s 17s/step - loss: 0.1245 - accuracy: 0.9615 - val_loss: 0.4167 - val_accuracy: 0.8707\n",
            "Epoch 10/20\n",
            "32/32 [==============================] - 716s 17s/step - loss: 0.1308 - accuracy: 0.9623 - val_loss: 0.0651 - val_accuracy: 0.9863\n",
            "Epoch 11/20\n",
            "32/32 [==============================] - 740s 17s/step - loss: 0.0644 - accuracy: 0.9839 - val_loss: 0.0502 - val_accuracy: 0.9893\n",
            "Epoch 12/20\n",
            "32/32 [==============================] - 723s 17s/step - loss: 0.0323 - accuracy: 0.9945 - val_loss: 0.0192 - val_accuracy: 0.9980\n",
            "Epoch 13/20\n",
            "32/32 [==============================] - 711s 17s/step - loss: 0.0275 - accuracy: 0.9935 - val_loss: 0.0196 - val_accuracy: 0.9980\n",
            "Epoch 14/20\n",
            "32/32 [==============================] - 708s 17s/step - loss: 0.0154 - accuracy: 0.9977 - val_loss: 0.0220 - val_accuracy: 0.9941\n",
            "Epoch 15/20\n",
            "32/32 [==============================] - 729s 17s/step - loss: 0.0129 - accuracy: 0.9982 - val_loss: 0.0104 - val_accuracy: 0.9990\n",
            "Epoch 16/20\n",
            "32/32 [==============================] - 721s 17s/step - loss: 0.0145 - accuracy: 0.9975 - val_loss: 0.0113 - val_accuracy: 0.9990\n",
            "Epoch 17/20\n",
            "32/32 [==============================] - 682s 16s/step - loss: 0.0341 - accuracy: 0.9909 - val_loss: 0.0386 - val_accuracy: 0.9893\n",
            "Epoch 18/20\n",
            "32/32 [==============================] - 706s 17s/step - loss: 0.0625 - accuracy: 0.9821 - val_loss: 0.0505 - val_accuracy: 0.9873\n",
            "Epoch 19/20\n",
            "32/32 [==============================] - 674s 16s/step - loss: 0.0551 - accuracy: 0.9859 - val_loss: 0.0738 - val_accuracy: 0.9746\n",
            "Epoch 20/20\n",
            "32/32 [==============================] - 717s 17s/step - loss: 0.1080 - accuracy: 0.9636 - val_loss: 0.0286 - val_accuracy: 0.9945\n"
          ]
        }
      ]
    },
    {
      "cell_type": "code",
      "source": [
        "model.save('/content/drive/MyDrive/ML Trained Models/FinalPredictionModel.h5')"
      ],
      "metadata": {
        "id": "P-j65Dt_1KL1",
        "colab": {
          "base_uri": "https://localhost:8080/"
        },
        "outputId": "6887de4e-5a7d-4d15-81ff-8058ddedf1a6"
      },
      "execution_count": 10,
      "outputs": [
        {
          "output_type": "stream",
          "name": "stderr",
          "text": [
            "/usr/local/lib/python3.10/dist-packages/keras/src/engine/training.py:3103: UserWarning: You are saving your model as an HDF5 file via `model.save()`. This file format is considered legacy. We recommend using instead the native Keras format, e.g. `model.save('my_model.keras')`.\n",
            "  saving_api.save_model(\n"
          ]
        }
      ]
    },
    {
      "cell_type": "code",
      "source": [
        "train_loss, train_acc = model.evaluate(train_ds)\n",
        "print('Training accuracy:', train_acc)\n",
        "\n",
        "val_loss, val_acc = model.evaluate(val_ds)\n",
        "print('Validation accuracy:', val_acc)"
      ],
      "metadata": {
        "id": "Va1P91u-1LMf",
        "colab": {
          "base_uri": "https://localhost:8080/"
        },
        "outputId": "c52bbf44-4d7a-48ce-a9ef-76ebf0c65375"
      },
      "execution_count": 11,
      "outputs": [
        {
          "output_type": "stream",
          "name": "stdout",
          "text": [
            "32/32 [==============================] - 293s 3s/step - loss: 0.0352 - accuracy: 0.9927\n",
            "Training accuracy: 0.99267578125\n",
            "8/8 [==============================] - 219s 2s/step - loss: 0.0448 - accuracy: 0.9912\n",
            "Validation accuracy: 0.9911602139472961\n"
          ]
        }
      ]
    },
    {
      "cell_type": "code",
      "source": [
        "import matplotlib.pyplot as plt\n",
        "\n",
        "# Get training and validation loss values\n",
        "train_loss = history.history['loss']\n",
        "val_loss = history.history['val_loss']\n",
        "\n",
        "\n",
        "# Plot training and validation loss\n",
        "plt.figure(figsize=(10, 5))\n",
        "plt.plot(train_loss, label='Training Loss', color='blue')\n",
        "plt.plot(val_loss, label='Validation Loss', color='orange')\n",
        "plt.title('Training and Validation Loss')\n",
        "plt.xlabel('Epoch')\n",
        "plt.ylabel('Loss')\n",
        "plt.legend()\n",
        "plt.show()\n"
      ],
      "metadata": {
        "id": "s6RWboHN1M5N",
        "colab": {
          "base_uri": "https://localhost:8080/",
          "height": 487
        },
        "outputId": "8ae68dfc-57d4-4b92-a8d0-9a2771e3fccf"
      },
      "execution_count": 28,
      "outputs": [
        {
          "output_type": "display_data",
          "data": {
            "text/plain": [
              "<Figure size 1000x500 with 1 Axes>"
            ],
            "image/png": "[encoded data removed]"
          },
          "metadata": {}
        }
      ]
    },
    {
      "cell_type": "code",
      "source": [
        "# Get training and validation accuracy values\n",
        "train_acc = history.history['accuracy']\n",
        "val_acc = history.history['val_accuracy']\n",
        "\n",
        "\n",
        "# Plot training and validation accuracy\n",
        "plt.figure(figsize=(10, 5))\n",
        "plt.plot(train_acc, label='Training Accuracy', color='blue')\n",
        "plt.plot(val_acc, label='Validation Accuracy', color='orange')\n",
        "plt.title('Training and Validation Accuracy')\n",
        "plt.xlabel('Epoch')\n",
        "plt.ylabel('Accuracy')\n",
        "plt.legend()\n",
        "plt.show()\n"
      ],
      "metadata": {
        "colab": {
          "base_uri": "https://localhost:8080/",
          "height": 487
        },
        "id": "134_YG1L7N2J",
        "outputId": "9d6b6625-a559-4d7f-ae34-b422b91e665e"
      },
      "execution_count": 27,
      "outputs": [
        {
          "output_type": "display_data",
          "data": {
            "text/plain": [
              "<Figure size 1000x500 with 1 Axes>"
            ],
            "image/png": "[encoded data removed]"
          },
          "metadata": {}
        }
      ]
    },
    {
      "cell_type": "code",
      "source": [
        "model = tf.keras.models.load_model('/content/drive/MyDrive/ML Trained Models/FinalPredictionModel.h5')"
      ],
      "metadata": {
        "id": "a_HjTLVd1TK3"
      },
      "execution_count": 17,
      "outputs": []
    },
    {
      "cell_type": "code",
      "source": [
        "import numpy as np\n",
        "from sklearn.metrics import confusion_matrix\n",
        "import seaborn as sns\n",
        "import matplotlib.pyplot as plt\n",
        "\n",
        "# Get the true labels and predicted labels for the validation dataset\n",
        "true_labels = []\n",
        "predicted_labels = []\n",
        "\n",
        "for images, labels in val_ds:\n",
        "    true_labels.extend(np.argmax(labels, axis=1))\n",
        "    predicted_labels.extend(np.argmax(model.predict(images), axis=1))\n",
        "\n",
        "# Calculate the confusion matrix\n",
        "conf_matrix = confusion_matrix(true_labels, predicted_labels)\n",
        "\n",
        "# Plot the confusion matrix\n",
        "plt.figure(figsize=(10, 8))\n",
        "sns.heatmap(conf_matrix, annot=True, fmt='d', cmap='Blues', xticklabels=class_names, yticklabels=class_names)\n",
        "plt.xlabel('Predicted Labels')\n",
        "plt.ylabel('True Labels')\n",
        "plt.title('Confusion Matrix')\n",
        "plt.show()"
      ],
      "metadata": {
        "id": "9y-bnceB1WUQ"
      },
      "execution_count": null,
      "outputs": []
    },
    {
      "cell_type": "code",
      "source": [
        "class_names = ['Person 1',\n",
        " 'Person 10',\n",
        " 'Person 2',\n",
        " 'Person 3',\n",
        " 'Person 4',\n",
        " 'Person 5',\n",
        " 'Person 6',\n",
        " 'Person 7',\n",
        " 'Person 8',\n",
        " 'Person 9']"
      ],
      "metadata": {
        "id": "SKiVEEyK1XAo"
      },
      "execution_count": 14,
      "outputs": []
    },
    {
      "cell_type": "code",
      "source": [
        "import numpy as np\n",
        "\n",
        "def predict_with_details(model, img, class_names):\n",
        "    # Preprocess the image\n",
        "    img_array = tf.keras.preprocessing.image.img_to_array(img)\n",
        "    img_array = tf.expand_dims(img_array, 0)\n",
        "\n",
        "    # Make predictions\n",
        "    predictions = model.predict(img_array)\n",
        "    predicted_class_index = np.argmax(predictions)\n",
        "    print(predicted_class_index)\n",
        "    print(predictions[0][predicted_class_index])\n",
        "    print(class_names[predicted_class_index])\n",
        "\n",
        "    # # Extract predicted class and confidence\n",
        "    # predicted_class_index = np.argmax(predictions[0])\n",
        "    # confidence = predictions[0][predicted_class_index]\n",
        "    # predicted_class = class_names[predicted_class_index]\n",
        "\n",
        "    # # Get the maximum value and its index\n",
        "    # max_value = np.max(predictions)\n",
        "    # max_index = np.argmax(predictions)\n",
        "\n",
        "    # return predictions, max_value, max_index, confidence, predicted_class\n",
        "    return None\n"
      ],
      "metadata": {
        "id": "R2tT5L8s1b6I"
      },
      "execution_count": 18,
      "outputs": []
    },
    {
      "cell_type": "code",
      "source": [
        "# Load the sample image\n",
        "sample_image_path = '/content/drive/MyDrive/Dataset/DTect Testing/Person 6/IMG_7912.JPG'\n",
        "img = tf.keras.preprocessing.image.load_img(sample_image_path, target_size=(256, 256))\n",
        "\n",
        "# Predict with details\n",
        "predict_with_details(model, img, class_names)#\n",
        "#predictions, max_value, max_index, confidence, predicted_class = predict_with_details(model, img, class_names)\n",
        "\n",
        "# # Print the results\n",
        "# print(\"Predictions Matrix:\")\n",
        "# print(predictions)\n",
        "# print(\"Maximum Value of Predictions:\", max_value)\n",
        "# print(\"Index of Maximum Value:\", max_index)\n",
        "# print(\"Confidence:\", confidence)\n",
        "# print(\"Predicted Class:\", predicted_class)\n"
      ],
      "metadata": {
        "id": "XiEkVtY81dAI",
        "colab": {
          "base_uri": "https://localhost:8080/"
        },
        "outputId": "ea3d6ae6-e58e-4ee1-ef9e-52aa47fc36e0"
      },
      "execution_count": 26,
      "outputs": [
        {
          "output_type": "stream",
          "name": "stdout",
          "text": [
            "1/1 [==============================] - 0s 61ms/step\n",
            "7\n",
            "0.44677627\n",
            "Person 7\n"
          ]
        }
      ]
    }
  ]
}