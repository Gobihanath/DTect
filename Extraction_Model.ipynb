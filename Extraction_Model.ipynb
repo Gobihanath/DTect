{
  "nbformat": 4,
  "nbformat_minor": 0,
  "metadata": {
    "colab": {
      "provenance": [],
      "mount_file_id": "https://github.com/Gobihanath/DTect/blob/main/Extraction_Model.ipynb",
      "authorship_tag": "ABX9TyPYh6ia3wZP2AaNoodm9tro",
      "include_colab_link": true
    },
    "kernelspec": {
      "name": "python3",
      "display_name": "Python 3"
    },
    "language_info": {
      "name": "python"
    }
  },
  "cells": [
    {
      "cell_type": "markdown",
      "metadata": {
        "id": "view-in-github",
        "colab_type": "text"
      },
      "source": [
        "<a href=\"https://colab.research.google.com/github/Gobihanath/DTect/blob/main/Extraction_Model.ipynb\" target=\"_parent\"><img src=\"https://colab.research.google.com/assets/colab-badge.svg\" alt=\"Open In Colab\"/></a>"
      ]
    },
    {
      "cell_type": "markdown",
      "source": [],
      "metadata": {
        "id": "z9wy0rTvyicO"
      }
    },
    {
      "cell_type": "code",
      "source": [
        "from google.colab import drive\n",
        "drive.mount('/content/drive')"
      ],
      "metadata": {
        "colab": {
          "base_uri": "https://localhost:8080/"
        },
        "id": "zSfMOYUcj6Gf",
        "outputId": "62dcee91-dc9b-454b-d95a-e7fcb04b344d"
      },
      "execution_count": 1,
      "outputs": [
        {
          "output_type": "stream",
          "name": "stdout",
          "text": [
            "Drive already mounted at /content/drive; to attempt to forcibly remount, call drive.mount(\"/content/drive\", force_remount=True).\n"
          ]
        }
      ]
    },
    {
      "cell_type": "code",
      "source": [
        "import cv2\n",
        "import os\n",
        "import numpy as np\n",
        "from google.colab.patches import cv2_imshow\n",
        "\n",
        "\n",
        "\n",
        "\n",
        "\n",
        "image = cv2.imread('/content/drive/MyDrive/mini1.png')\n",
        "\n",
        "# Path to the Google Drive folder to save small box images\n",
        "output_folder = '/content/drive/MyDrive/SMiniproject'\n",
        "os.makedirs(output_folder, exist_ok=True)\n",
        "\n",
        "\n",
        "gray = cv2.cvtColor(image, cv2.COLOR_BGR2GRAY)\n",
        "blurred = cv2.GaussianBlur(gray, (5, 5), 0)\n",
        "edges = cv2.Canny(blurred, 50, 150)\n",
        "contours, _ = cv2.findContours(edges.copy(), cv2.RETR_EXTERNAL, cv2.CHAIN_APPROX_SIMPLE)\n",
        "min_contour_area = 500\n",
        "\n",
        "# Iterate through each contour\n",
        "for i, contour in enumerate(contours):\n",
        "    if cv2.contourArea(contour) > min_contour_area:\n",
        "        x, y, w, h = cv2.boundingRect(contour)\n",
        "        box = image[y:y + h, x:x + w]\n",
        "        # Display each rectangular box\n",
        "        cv2_imshow(box)\n",
        "        cv2.waitKey(0)\n",
        "\n",
        "        box_gray = cv2.cvtColor(box, cv2.COLOR_BGR2GRAY)\n",
        "        box_blurred = cv2.GaussianBlur(box_gray, (5, 5), 0)\n",
        "        box_edges = cv2.Canny(box_blurred, 50, 150)\n",
        "\n",
        "        box_contours, _ = cv2.findContours(box_edges.copy(), cv2.RETR_EXTERNAL, cv2.CHAIN_APPROX_SIMPLE)\n",
        "        contours = sorted(contours, key=lambda x: cv2.boundingRect(x)[1])\n",
        "        box_contours = sorted(box_contours, key=lambda x: cv2.boundingRect(x)[1])\n",
        "\n",
        "        # Iterate through each contour inside the box\n",
        "        for j, small_contour in enumerate(box_contours):\n",
        "            if cv2.contourArea(small_contour) > min_contour_area:\n",
        "                x_small, y_small, w_small, h_small = cv2.boundingRect(small_contour)\n",
        "                small_box = box[y_small:y_small + h_small, x_small:x_small + w_small]\n",
        "\n",
        "                # Display each small rectangular box\n",
        "                cv2_imshow(small_box)\n",
        "                cv2.waitKey(0)\n",
        "\n",
        "                # Save the small box image in the Google Drive folder\n",
        "                small_box_path = os.path.join(output_folder, f'Small_Box_{i + 1}_{j + 1}.png')\n",
        "                cv2.imwrite(small_box_path, small_box)\n",
        "\n",
        "cv2.destroyAllWindows()\n"
      ],
      "metadata": {
        "id": "tiK1BEIQErFr"
      },
      "execution_count": null,
      "outputs": []
    },
    {
      "cell_type": "code",
      "source": [
        "!pip install tensorflow"
      ],
      "metadata": {
        "id": "zreJx2UGbXtd"
      },
      "execution_count": null,
      "outputs": []
    },
    {
      "cell_type": "code",
      "source": [
        "import tensorflow as tf\n",
        "from tensorflow.keras.models import Sequential\n",
        "from tensorflow.keras.layers import Conv2D, MaxPooling2D, Flatten, Dense"
      ],
      "metadata": {
        "id": "0ptQ3aLsbh28"
      },
      "execution_count": 3,
      "outputs": []
    },
    {
      "cell_type": "code",
      "source": [
        "input_shape = (1000,1500, 3)  # Replace this with the actual input shape of your data\n",
        "\n",
        "model = tf.keras.Sequential([\n",
        "  tf.keras.layers.Conv2D(32, (3, 3), activation='relu', input_shape=input_shape),\n",
        "  tf.keras.layers.MaxPooling2D((2, 2)),\n",
        "  tf.keras.layers.Conv2D(64, (3, 3), activation='relu'),\n",
        "  tf.keras.layers.MaxPooling2D((2, 2)),\n",
        "  tf.keras.layers.Flatten(),\n",
        "  tf.keras.layers.Dense(128, activation='relu'),\n",
        "  tf.keras.layers.Dense(1, activation='sigmoid')\n",
        "])\n",
        "model.build(input_shape)\n",
        "model.save('/content/drive/MyDrive/Extract1/Extract-Model.h5')"
      ],
      "metadata": {
        "colab": {
          "base_uri": "https://localhost:8080/"
        },
        "id": "oBdT3TnTbjnb",
        "outputId": "d2987ecb-0a3d-4648-dbbf-c1dc4b9ff05b"
      },
      "execution_count": 6,
      "outputs": [
        {
          "output_type": "stream",
          "name": "stderr",
          "text": [
            "WARNING:tensorflow:Compiled the loaded model, but the compiled metrics have yet to be built. `model.compile_metrics` will be empty until you train or evaluate the model.\n"
          ]
        }
      ]
    }
  ]
}