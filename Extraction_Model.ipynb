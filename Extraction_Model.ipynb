{
  "nbformat": 4,
  "nbformat_minor": 0,
  "metadata": {
    "colab": {
      "provenance": [],
      "authorship_tag": "ABX9TyP4IoYgsD4kHD37U6UZ9wrb",
      "include_colab_link": true
    },
    "kernelspec": {
      "name": "python3",
      "display_name": "Python 3"
    },
    "language_info": {
      "name": "python"
    }
  },
  "cells": [
    {
      "cell_type": "markdown",
      "metadata": {
        "id": "view-in-github",
        "colab_type": "text"
      },
      "source": [
        "<a href=\"https://colab.research.google.com/github/Gobihanath/DTect/blob/main/Extraction_Model.ipynb\" target=\"_parent\"><img src=\"https://colab.research.google.com/assets/colab-badge.svg\" alt=\"Open In Colab\"/></a>"
      ]
    },
    {
      "cell_type": "markdown",
      "source": [],
      "metadata": {
        "id": "z9wy0rTvyicO"
      }
    },
    {
      "cell_type": "code",
      "source": [
        "from google.colab import drive\n",
        "drive.mount('/content/drive')"
      ],
      "metadata": {
        "colab": {
          "base_uri": "https://localhost:8080/"
        },
        "id": "zSfMOYUcj6Gf",
        "outputId": "f68a24f7-fb30-4e97-ee79-6054bedc19d1"
      },
      "execution_count": 1,
      "outputs": [
        {
          "output_type": "stream",
          "name": "stdout",
          "text": [
            "Mounted at /content/drive\n"
          ]
        }
      ]
    },
    {
      "cell_type": "code",
      "source": [
        "import cv2\n",
        "import os\n",
        "import numpy as np\n",
        "from google.colab.patches import cv2_imshow\n",
        "import tensorflow as tf\n",
        "from tensorflow import keras\n",
        "from tensorflow.keras.models import Model\n",
        "\n",
        "\n",
        "\n",
        "\n",
        "image = cv2.imread('/content/drive/MyDrive/mini1.png')\n",
        "\n",
        "# Path to the Google Drive folder to save small box images\n",
        "output_folder = '/content/drive/MyDrive/SMiniproject'\n",
        "os.makedirs(output_folder, exist_ok=True)\n",
        "\n",
        "\n",
        "gray = cv2.cvtColor(image, cv2.COLOR_BGR2GRAY)\n",
        "blurred = cv2.GaussianBlur(gray, (5, 5), 0)\n",
        "edges = cv2.Canny(blurred, 50, 150)\n",
        "contours, _ = cv2.findContours(edges.copy(), cv2.RETR_EXTERNAL, cv2.CHAIN_APPROX_SIMPLE)\n",
        "min_contour_area = 500\n",
        "\n",
        "# Iterate through each contour\n",
        "for i, contour in enumerate(contours):\n",
        "    # Filter out small contours\n",
        "    if cv2.contourArea(contour) > min_contour_area:\n",
        "        # Extract the bounding box of the contour\n",
        "        x, y, w, h = cv2.boundingRect(contour)\n",
        "\n",
        "        # Extract the rectangular box from the original image\n",
        "        box = image[y:y + h, x:x + w]\n",
        "        # Display each rectangular box\n",
        "        cv2_imshow(box)\n",
        "        cv2.waitKey(0)\n",
        "\n",
        "        # Now, find contours within the extracted box\n",
        "        box_gray = cv2.cvtColor(box, cv2.COLOR_BGR2GRAY)\n",
        "        box_blurred = cv2.GaussianBlur(box_gray, (5, 5), 0)\n",
        "        box_edges = cv2.Canny(box_blurred, 50, 150)\n",
        "\n",
        "        box_contours, _ = cv2.findContours(box_edges.copy(), cv2.RETR_EXTERNAL, cv2.CHAIN_APPROX_SIMPLE)\n",
        "\n",
        "        # Sort contours based on y-coordinate (top to bottom)\n",
        "        contours = sorted(contours, key=lambda x: cv2.boundingRect(x)[1])\n",
        "\n",
        "        # Sort small contours based on y-coordinate (top to bottom)\n",
        "        box_contours = sorted(box_contours, key=lambda x: cv2.boundingRect(x)[1])\n",
        "\n",
        "        # Iterate through each contour inside the box\n",
        "        for j, small_contour in enumerate(box_contours):\n",
        "            # Filter out small contours\n",
        "            if cv2.contourArea(small_contour) > min_contour_area:\n",
        "                # Extract the bounding box of the small contour\n",
        "                x_small, y_small, w_small, h_small = cv2.boundingRect(small_contour)\n",
        "\n",
        "                # Extract the small rectangular box from the original image\n",
        "                small_box = box[y_small:y_small + h_small, x_small:x_small + w_small]\n",
        "\n",
        "                # Display each small rectangular box\n",
        "                cv2_imshow(small_box)\n",
        "                cv2.waitKey(0)\n",
        "\n",
        "                # Save the small box image in the Google Drive folder\n",
        "                small_box_path = os.path.join(output_folder, f'Small_Box_{i + 1}_{j + 1}.png')\n",
        "                cv2.imwrite(small_box_path, small_box)\n",
        "\n",
        "cv2.destroyAllWindows()\n"
      ],
      "metadata": {
        "id": "tiK1BEIQErFr"
      },
      "execution_count": null,
      "outputs": []
    },
    {
      "cell_type": "code",
      "source": [
        "input_shape = (224, 224, 3)\n",
        "model.build(input_shape)\n",
        "model.save('/content/drive/MyDrive/Extract1/Extract-Model.h5')"
      ],
      "metadata": {
        "colab": {
          "base_uri": "https://localhost:8080/"
        },
        "id": "eo2cOjfXFLZp",
        "outputId": "9546f34c-3f5e-448b-e388-a861de510074"
      },
      "execution_count": 35,
      "outputs": [
        {
          "output_type": "stream",
          "name": "stderr",
          "text": [
            "/usr/local/lib/python3.10/dist-packages/keras/src/engine/training.py:3103: UserWarning: You are saving your model as an HDF5 file via `model.save()`. This file format is considered legacy. We recommend using instead the native Keras format, e.g. `model.save('my_model.keras')`.\n",
            "  saving_api.save_model(\n",
            "WARNING:tensorflow:Compiled the loaded model, but the compiled metrics have yet to be built. `model.compile_metrics` will be empty until you train or evaluate the model.\n"
          ]
        }
      ]
    }
  ]
}