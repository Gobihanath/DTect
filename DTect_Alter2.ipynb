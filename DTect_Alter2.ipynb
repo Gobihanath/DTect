{
  "cells": [
    {
      "cell_type": "markdown",
      "metadata": {
        "id": "view-in-github",
        "colab_type": "text"
      },
      "source": [
        "<a href=\"https://colab.research.google.com/github/Gobihanath/DTect/blob/main/DTect_Alter2.ipynb\" target=\"_parent\"><img src=\"https://colab.research.google.com/assets/colab-badge.svg\" alt=\"Open In Colab\"/></a>"
      ]
    },
    {
      "cell_type": "code",
      "execution_count": null,
      "metadata": {
        "id": "eDHTsgQKPibH"
      },
      "outputs": [],
      "source": [
        "import numpy as np\n",
        "import pandas as pd\n",
        "import matplotlib.pyplot as plt\n",
        "import tensorflow as tf\n",
        "from tensorflow import keras\n",
        "from keras import layers\n",
        "from keras.models import Sequential\n",
        "from keras.layers import Conv2D, MaxPooling2D, Flatten, Dense, Dropout,BatchNormalization\n",
        "from keras.preprocessing import image\n",
        "from keras.preprocessing.image import ImageDataGenerator\n",
        "from tensorflow.keras.layers.experimental.preprocessing import Rescaling\n",
        "import cv2\n",
        "\n",
        "input_shape = (256,256, 3)  # 3 means the rgb format"
      ]
    },
    {
      "cell_type": "code",
      "execution_count": null,
      "metadata": {
        "colab": {
          "base_uri": "https://localhost:8080/"
        },
        "id": "Aa5q6KXiPs9s",
        "outputId": "e6f049f3-fcc9-4c7d-d077-f8a12bdbe893"
      },
      "outputs": [
        {
          "output_type": "stream",
          "name": "stdout",
          "text": [
            "Mounted at /content/drive\n"
          ]
        }
      ],
      "source": [
        "from google.colab import drive\n",
        "drive.mount(\"/content/drive\")"
      ]
    },
    {
      "cell_type": "code",
      "execution_count": null,
      "metadata": {
        "id": "mRd-zSbiPvWU"
      },
      "outputs": [],
      "source": [
        "Image_Width = 256\n",
        "Image_Height = 256\n",
        "Image_Size = (Image_Width, Image_Height)\n",
        "Image_Channel = 3\n",
        "batch_size=128"
      ]
    },
    {
      "cell_type": "code",
      "execution_count": null,
      "metadata": {
        "colab": {
          "base_uri": "https://localhost:8080/"
        },
        "id": "lpCtMdaMPwfM",
        "outputId": "a4253c5f-ddab-4294-a71d-36f358d83548"
      },
      "outputs": [
        {
          "output_type": "stream",
          "name": "stdout",
          "text": [
            "Found 5001 files belonging to 10 classes.\n"
          ]
        }
      ],
      "source": [
        "data_set = tf.keras.preprocessing.image_dataset_from_directory(\n",
        "    \"/content/drive/MyDrive/Dataset/Dtect | Dataset | New\",\n",
        "    seed=123,         #If you want to ensure that the shuffling of your dataset is the same across different runs, you can keep the seed value constant. If you don't care about reproducibility, you can omit the seed parameter or use a different value for each run.\n",
        "    shuffle=True,\n",
        "    image_size=Image_Size,\n",
        "    batch_size=batch_size,\n",
        "    labels=\"inferred\",\n",
        "    label_mode=\"categorical\",\n",
        "    class_names=None,\n",
        "    color_mode=\"rgb\",\n",
        "    subset=None,\n",
        "    interpolation=\"bilinear\",\n",
        "    follow_links=False,\n",
        "    crop_to_aspect_ratio=False\n",
        ")"
      ]
    },
    {
      "cell_type": "code",
      "execution_count": null,
      "metadata": {
        "colab": {
          "base_uri": "https://localhost:8080/"
        },
        "id": "wKied2rSPzQs",
        "outputId": "5ce09003-28c0-4a1c-d81b-122896a18c26"
      },
      "outputs": [
        {
          "output_type": "execute_result",
          "data": {
            "text/plain": [
              "['Person 1',\n",
              " 'Person 10',\n",
              " 'Person 2',\n",
              " 'Person 3',\n",
              " 'Person 4',\n",
              " 'Person 5',\n",
              " 'Person 6',\n",
              " 'Person 7',\n",
              " 'Person 8',\n",
              " 'Person 9']"
            ]
          },
          "metadata": {},
          "execution_count": 6
        }
      ],
      "source": [
        "class_names = data_set.class_names\n",
        "class_names"
      ]
    },
    {
      "cell_type": "code",
      "execution_count": null,
      "metadata": {
        "id": "xZHDeDaMP1-D"
      },
      "outputs": [],
      "source": [
        "def get_dataset_partitions_tf(data_set, train_split=0.8,  val_split=0.2, shuffle=True, shuffle_size=10000):\n",
        "    assert (train_split + val_split ) == 1\n",
        "\n",
        "    ds_size = len(data_set)\n",
        "\n",
        "    if shuffle:\n",
        "        data_set = data_set.shuffle(shuffle_size, seed=123)\n",
        "\n",
        "    train_size = int(train_split * ds_size)\n",
        "    val_size = int(val_split * ds_size)\n",
        "\n",
        "    train_ds = data_set.take(train_size)\n",
        "    val_ds = data_set.skip(train_size).take(val_size)\n",
        "\n",
        "    return train_ds, val_ds"
      ]
    },
    {
      "cell_type": "code",
      "execution_count": null,
      "metadata": {
        "colab": {
          "base_uri": "https://localhost:8080/"
        },
        "id": "DwCIuTR9P7oX",
        "outputId": "87cceafa-4126-4556-c481-7230a5e02fba"
      },
      "outputs": [
        {
          "output_type": "stream",
          "name": "stdout",
          "text": [
            "32\n",
            "8\n"
          ]
        }
      ],
      "source": [
        "train_ds, val_ds = get_dataset_partitions_tf(data_set)\n",
        "\n",
        "print(len(train_ds))\n",
        "print(len(val_ds))"
      ]
    },
    {
      "cell_type": "code",
      "execution_count": null,
      "metadata": {
        "colab": {
          "base_uri": "https://localhost:8080/"
        },
        "id": "3ODhfml_P9yu",
        "outputId": "e1cf1b6f-8c1d-46f1-c288-d8dd53ca17f8"
      },
      "outputs": [
        {
          "output_type": "stream",
          "name": "stdout",
          "text": [
            "Model: \"sequential\"\n",
            "_________________________________________________________________\n",
            " Layer (type)                Output Shape              Param #   \n",
            "=================================================================\n",
            " rescaling (Rescaling)       (None, 256, 256, 3)       0         \n",
            "                                                                 \n",
            " conv2d (Conv2D)             (None, 254, 254, 16)      448       \n",
            "                                                                 \n",
            " max_pooling2d (MaxPooling2  (None, 127, 127, 16)      0         \n",
            " D)                                                              \n",
            "                                                                 \n",
            " conv2d_1 (Conv2D)           (None, 125, 125, 32)      4640      \n",
            "                                                                 \n",
            " max_pooling2d_1 (MaxPoolin  (None, 62, 62, 32)        0         \n",
            " g2D)                                                            \n",
            "                                                                 \n",
            " conv2d_2 (Conv2D)           (None, 60, 60, 64)        18496     \n",
            "                                                                 \n",
            " max_pooling2d_2 (MaxPoolin  (None, 30, 30, 64)        0         \n",
            " g2D)                                                            \n",
            "                                                                 \n",
            " dropout (Dropout)           (None, 30, 30, 64)        0         \n",
            "                                                                 \n",
            " flatten (Flatten)           (None, 57600)             0         \n",
            "                                                                 \n",
            " dense (Dense)               (None, 128)               7372928   \n",
            "                                                                 \n",
            " dense_1 (Dense)             (None, 10)                1290      \n",
            "                                                                 \n",
            "=================================================================\n",
            "Total params: 7397802 (28.22 MB)\n",
            "Trainable params: 7397802 (28.22 MB)\n",
            "Non-trainable params: 0 (0.00 Byte)\n",
            "_________________________________________________________________\n"
          ]
        }
      ],
      "source": [
        "model = Sequential()\n",
        "model.add(Rescaling(1./255, input_shape=input_shape))\n",
        "\n",
        "model.add(layers.Conv2D(16, 3, activation='relu', input_shape=input_shape))\n",
        "model.add(layers.MaxPooling2D())\n",
        "\n",
        "\n",
        "\n",
        "model.add(layers.Conv2D(32, 3, activation='relu'))\n",
        "model.add(layers.MaxPooling2D())\n",
        "\n",
        "\n",
        "model.add(layers.Conv2D(64, 3, activation='relu', input_shape=input_shape))\n",
        "model.add(layers.MaxPooling2D())\n",
        "model.add(layers.Dropout(0.2))\n",
        "\n",
        "\n",
        "model.add(layers.Flatten())\n",
        "model.add(layers.Dense(128, activation='relu'))\n",
        "model.add(layers.Dense(10,activation='softmax'))\n",
        "\n",
        "\n",
        "model.summary()"
      ]
    },
    {
      "cell_type": "code",
      "execution_count": null,
      "metadata": {
        "colab": {
          "base_uri": "https://localhost:8080/"
        },
        "id": "Tv6GLY4VQJLj",
        "outputId": "d3ef53be-9689-443a-96af-1fe502b8d2ba"
      },
      "outputs": [
        {
          "output_type": "execute_result",
          "data": {
            "text/plain": [
              "<tf.Variable 'UnreadVariable' shape=() dtype=float32, numpy=1e-04>"
            ]
          },
          "metadata": {},
          "execution_count": 10
        }
      ],
      "source": [
        "from keras.optimizers import Adam\n",
        "\n",
        "initial_learning_rate = 0.001\n",
        "optimizer = Adam(learning_rate=initial_learning_rate)\n",
        "model.compile(optimizer=optimizer, loss='categorical_crossentropy', metrics=['accuracy'])\n",
        "\n",
        "# Increase the learning rate\n",
        "new_learning_rate = 0.0001\n",
        "optimizer.learning_rate.assign(new_learning_rate)\n"
      ]
    },
    {
      "cell_type": "code",
      "execution_count": null,
      "metadata": {
        "colab": {
          "base_uri": "https://localhost:8080/"
        },
        "id": "4yJYlPGlRfRT",
        "outputId": "86671f51-3804-45eb-8800-7e81108015c2"
      },
      "outputs": [
        {
          "output_type": "stream",
          "name": "stdout",
          "text": [
            "Current learning rate: 1e-04\n"
          ]
        }
      ],
      "source": [
        "optimizer = model.optimizer\n",
        "\n",
        "# Get the learning rate from the optimizer's configuration\n",
        "learning_rate = optimizer.get_config()['learning_rate']\n",
        "print(\"Current learning rate:\", learning_rate)"
      ]
    },
    {
      "cell_type": "code",
      "execution_count": null,
      "metadata": {
        "id": "GRKzHY1TSnmx"
      },
      "outputs": [],
      "source": [
        "ACCURACY_THRESHOLD = 0.85\n",
        "\n",
        "class myCallback(tf.keras.callbacks.Callback):\n",
        "    def on_epoch_end(self, epoch, logs={}):\n",
        "        accuracy = logs.get('accuracy')  # Use 'accuracy' instead of 'acc'\n",
        "        if accuracy is not None and accuracy > ACCURACY_THRESHOLD:\n",
        "            print(\"\\nReached %2.2f%% accuracy, so stopping training!!\" % (ACCURACY_THRESHOLD * 100))\n",
        "            self.model.stop_training = True\n",
        "\n",
        "# Instantiate a callback object\n",
        "early_stopping = myCallback()"
      ]
    },
    {
      "cell_type": "code",
      "execution_count": null,
      "metadata": {
        "colab": {
          "base_uri": "https://localhost:8080/"
        },
        "id": "asD2zm-WSsCY",
        "outputId": "7a772f12-904e-487a-98b1-639ad1b660f7"
      },
      "outputs": [
        {
          "output_type": "stream",
          "name": "stdout",
          "text": [
            "Epoch 1/20\n",
            "32/32 [==============================] - 1297s 17s/step - loss: 2.2667 - accuracy: 0.1695 - val_loss: 2.1955 - val_accuracy: 0.1504\n",
            "Epoch 2/20\n",
            "32/32 [==============================] - 677s 15s/step - loss: 2.1013 - accuracy: 0.3274 - val_loss: 1.9798 - val_accuracy: 0.3984\n",
            "Epoch 3/20\n",
            "32/32 [==============================] - 721s 16s/step - loss: 1.8489 - accuracy: 0.4136 - val_loss: 1.7263 - val_accuracy: 0.4805\n",
            "Epoch 4/20\n",
            "32/32 [==============================] - 718s 17s/step - loss: 1.5856 - accuracy: 0.4981 - val_loss: 1.4391 - val_accuracy: 0.5227\n",
            "Epoch 5/20\n",
            "32/32 [==============================] - 731s 17s/step - loss: 1.4040 - accuracy: 0.5369 - val_loss: 1.3423 - val_accuracy: 0.5470\n",
            "Epoch 6/20\n",
            "32/32 [==============================] - 722s 17s/step - loss: 1.2830 - accuracy: 0.5751 - val_loss: 1.2128 - val_accuracy: 0.5908\n",
            "Epoch 7/20\n",
            "32/32 [==============================] - 725s 17s/step - loss: 1.1631 - accuracy: 0.6173 - val_loss: 1.1073 - val_accuracy: 0.6113\n",
            "Epoch 8/20\n",
            "32/32 [==============================] - 725s 17s/step - loss: 1.0709 - accuracy: 0.6419 - val_loss: 0.9916 - val_accuracy: 0.6660\n",
            "Epoch 9/20\n",
            "32/32 [==============================] - 723s 17s/step - loss: 0.9442 - accuracy: 0.6895 - val_loss: 0.9085 - val_accuracy: 0.7039\n",
            "Epoch 10/20\n",
            "32/32 [==============================] - 696s 16s/step - loss: 0.8794 - accuracy: 0.7116 - val_loss: 0.8374 - val_accuracy: 0.7100\n",
            "Epoch 11/20\n",
            "32/32 [==============================] - 681s 15s/step - loss: 0.8143 - accuracy: 0.7395 - val_loss: 0.7732 - val_accuracy: 0.7500\n",
            "Epoch 12/20\n",
            "32/32 [==============================] - 719s 17s/step - loss: 0.7708 - accuracy: 0.7433 - val_loss: 0.6913 - val_accuracy: 0.7812\n",
            "Epoch 13/20\n",
            "32/32 [==============================] - 724s 17s/step - loss: 0.7056 - accuracy: 0.7682 - val_loss: 0.6709 - val_accuracy: 0.7910\n",
            "Epoch 14/20\n",
            "32/32 [==============================] - 684s 15s/step - loss: 0.6434 - accuracy: 0.7900 - val_loss: 0.5973 - val_accuracy: 0.8096\n",
            "Epoch 15/20\n",
            "32/32 [==============================] - 721s 17s/step - loss: 0.6247 - accuracy: 0.7971 - val_loss: 0.6097 - val_accuracy: 0.7979\n",
            "Epoch 16/20\n",
            "32/32 [==============================] - 724s 17s/step - loss: 0.5830 - accuracy: 0.8076 - val_loss: 0.5429 - val_accuracy: 0.8164\n",
            "Epoch 17/20\n",
            "32/32 [==============================] - 723s 17s/step - loss: 0.5510 - accuracy: 0.8250 - val_loss: 0.5114 - val_accuracy: 0.8486\n",
            "Epoch 18/20\n",
            "32/32 [==============================] - 726s 17s/step - loss: 0.5225 - accuracy: 0.8361 - val_loss: 0.4593 - val_accuracy: 0.8564\n",
            "Epoch 19/20\n",
            "32/32 [==============================] - 723s 17s/step - loss: 0.4917 - accuracy: 0.8411 - val_loss: 0.4870 - val_accuracy: 0.8242\n",
            "Epoch 20/20\n",
            "32/32 [==============================] - 725s 17s/step - loss: 0.4828 - accuracy: 0.8425 - val_loss: 0.4751 - val_accuracy: 0.8387\n"
          ]
        }
      ],
      "source": [
        "history  = model.fit(\n",
        "    train_ds,\n",
        "    batch_size=128,\n",
        "    validation_data=val_ds,\n",
        "    validation_steps = 8,\n",
        "    verbose=1,\n",
        "    epochs=20,\n",
        "    callbacks=[early_stopping]\n",
        ")"
      ]
    },
    {
      "cell_type": "code",
      "execution_count": null,
      "metadata": {
        "id": "kTSzq03RS8hf",
        "colab": {
          "base_uri": "https://localhost:8080/"
        },
        "outputId": "9bc35ad2-ed9e-4158-937d-19659dba25d6"
      },
      "outputs": [
        {
          "output_type": "stream",
          "name": "stderr",
          "text": [
            "/usr/local/lib/python3.10/dist-packages/keras/src/engine/training.py:3103: UserWarning: You are saving your model as an HDF5 file via `model.save()`. This file format is considered legacy. We recommend using instead the native Keras format, e.g. `model.save('my_model.keras')`.\n",
            "  saving_api.save_model(\n"
          ]
        }
      ],
      "source": [
        "model.save('/content/drive/MyDrive/ML Trained Models/Dtect_Alternation_Model_02.h5')"
      ]
    },
    {
      "cell_type": "code",
      "source": [
        "train_loss, train_acc = model.evaluate(train_ds)\n",
        "print('Training accuracy:', train_acc)\n",
        "\n",
        "val_loss, val_acc = model.evaluate(val_ds)\n",
        "print('Validation accuracy:', val_acc)\n"
      ],
      "metadata": {
        "colab": {
          "base_uri": "https://localhost:8080/"
        },
        "id": "cS5SrKNOk33s",
        "outputId": "3395f14d-a1cb-4904-e627-ebcd7b1518f4"
      },
      "execution_count": null,
      "outputs": [
        {
          "output_type": "stream",
          "name": "stdout",
          "text": [
            "32/32 [==============================] - 283s 3s/step - loss: 0.4604 - accuracy: 0.8450\n",
            "Training accuracy: 0.844970703125\n",
            "8/8 [==============================] - 222s 2s/step - loss: 0.4620 - accuracy: 0.8398\n",
            "Validation accuracy: 0.8397790193557739\n"
          ]
        }
      ]
    },
    {
      "cell_type": "code",
      "execution_count": null,
      "metadata": {
        "id": "rErCovYhSu3W"
      },
      "outputs": [],
      "source": [
        "import numpy as np\n",
        "import tensorflow as tf\n",
        "\n",
        "def predict(model, img, class_names, confidence_threshold=0.5):\n",
        "    # Preprocess the image\n",
        "    img_array = tf.keras.preprocessing.image.img_to_array(img)\n",
        "    img_array = tf.expand_dims(img_array, 0)\n",
        "\n",
        "    # Make predictions\n",
        "    predictions = model.predict(img_array)\n",
        "\n",
        "    # Extract predicted class and confidence\n",
        "    predicted_class_index = np.argmax(predictions[0])\n",
        "    confidence = predictions[0][predicted_class_index]\n",
        "    predicted_class = class_names[predicted_class_index]\n",
        "\n",
        "    # Check if confidence is high enough\n",
        "    if confidence >= confidence_threshold:\n",
        "        verification_status = \"verified\"\n",
        "    else:\n",
        "        verification_status = \"not verified\"\n",
        "\n",
        "    return predicted_class, confidence, verification_status"
      ]
    },
    {
      "cell_type": "code",
      "execution_count": null,
      "metadata": {
        "id": "rsXC67FWSzxn",
        "colab": {
          "base_uri": "https://localhost:8080/"
        },
        "outputId": "adfe83f5-458e-41dc-c5cd-c091693bb179"
      },
      "outputs": [
        {
          "output_type": "stream",
          "name": "stdout",
          "text": [
            "1/1 [==============================] - 1s 506ms/step\n",
            "Predicted class: Person 3\n",
            "Confidence: 0.9826462\n",
            "Verification status: verified\n"
          ]
        }
      ],
      "source": [
        "# Load the trained model\n",
        "model = tf.keras.models.load_model('/content/drive/MyDrive/ML Trained Models/Dtect_Alternation_Model_02.h5')\n",
        "\n",
        "# Define class names\n",
        "# Add your class names here\n",
        "\n",
        "# Load the image you want to predict\n",
        "img = tf.keras.preprocessing.image.load_img('', target_size=(256, 256))\n",
        "\n",
        "# Predict the image\n",
        "predicted_class, confidence, verification_status = predict(model, img, class_names)\n",
        "\n",
        "# Print the results\n",
        "print(\"Predicted class:\", predicted_class)\n",
        "print(\"Confidence:\", confidence)\n",
        "print(\"Verification status:\", verification_status)"
      ]
    }
  ],
  "metadata": {
    "colab": {
      "provenance": [],
      "authorship_tag": "ABX9TyMKtxMzLKcNFBP2UD5d6l7Y",
      "include_colab_link": true
    },
    "kernelspec": {
      "display_name": "Python 3",
      "name": "python3"
    },
    "language_info": {
      "name": "python"
    }
  },
  "nbformat": 4,
  "nbformat_minor": 0
}