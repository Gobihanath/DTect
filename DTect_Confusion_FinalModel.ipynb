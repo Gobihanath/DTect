{
  "nbformat": 4,
  "nbformat_minor": 0,
  "metadata": {
    "colab": {
      "provenance": [],
      "authorship_tag": "ABX9TyM16WXI0g///6tIoliiDDBa",
      "include_colab_link": true
    },
    "kernelspec": {
      "name": "python3",
      "display_name": "Python 3"
    },
    "language_info": {
      "name": "python"
    }
  },
  "cells": [
    {
      "cell_type": "markdown",
      "metadata": {
        "id": "view-in-github",
        "colab_type": "text"
      },
      "source": [
        "<a href=\"https://colab.research.google.com/github/Gobihanath/DTect/blob/main/DTect_Confusion_FinalModel.ipynb\" target=\"_parent\"><img src=\"https://colab.research.google.com/assets/colab-badge.svg\" alt=\"Open In Colab\"/></a>"
      ]
    },
    {
      "cell_type": "code",
      "execution_count": 1,
      "metadata": {
        "id": "x1qv_N4JgPst"
      },
      "outputs": [],
      "source": [
        "import numpy as np\n",
        "import pandas as pd\n",
        "import matplotlib.pyplot as plt\n",
        "import tensorflow as tf\n",
        "from tensorflow import keras\n",
        "from keras import layers\n",
        "from keras.models import Sequential\n",
        "from keras.layers import Conv2D, MaxPooling2D, Flatten, Dense, Dropout,BatchNormalization\n",
        "from keras.preprocessing import image\n",
        "from keras.preprocessing.image import ImageDataGenerator\n",
        "from tensorflow.keras.layers.experimental.preprocessing import Rescaling\n",
        "import cv2\n",
        "\n",
        "input_shape = (256,256, 3)"
      ]
    },
    {
      "cell_type": "code",
      "source": [
        "from google.colab import drive\n",
        "drive.mount(\"/content/drive\")"
      ],
      "metadata": {
        "colab": {
          "base_uri": "https://localhost:8080/"
        },
        "id": "MUH5lrjyp8ZH",
        "outputId": "02d67381-f4fc-4a92-ed8a-fa4548a869ae"
      },
      "execution_count": 2,
      "outputs": [
        {
          "output_type": "stream",
          "name": "stdout",
          "text": [
            "Mounted at /content/drive\n"
          ]
        }
      ]
    },
    {
      "cell_type": "code",
      "source": [
        "Image_Width = 256\n",
        "Image_Height = 256\n",
        "Image_Size = (Image_Width, Image_Height)\n",
        "Image_Channel = 3\n",
        "batch_size=128"
      ],
      "metadata": {
        "id": "4Opn94sRqN_I"
      },
      "execution_count": 3,
      "outputs": []
    },
    {
      "cell_type": "code",
      "source": [
        "data_set = tf.keras.preprocessing.image_dataset_from_directory(\n",
        "    \"/content/drive/MyDrive/Dataset/Dtect | Dataset | New\",\n",
        "    seed=123,         #If you want to ensure that the shuffling of your dataset is the same across different runs, you can keep the seed value constant. If you don't care about reproducibility, you can omit the seed parameter or use a different value for each run.\n",
        "    shuffle=True,\n",
        "    image_size=Image_Size,\n",
        "    batch_size=batch_size,\n",
        "    labels=\"inferred\",\n",
        "    label_mode=\"categorical\",\n",
        "    class_names=None,\n",
        "    color_mode=\"rgb\",\n",
        "    subset=None,\n",
        "    interpolation=\"bilinear\",\n",
        "    follow_links=False,\n",
        "    crop_to_aspect_ratio=False\n",
        ")"
      ],
      "metadata": {
        "colab": {
          "base_uri": "https://localhost:8080/"
        },
        "id": "lsGk4lEhqSW-",
        "outputId": "2a70bf7e-8120-4825-c8af-29c9fcfd4863"
      },
      "execution_count": 4,
      "outputs": [
        {
          "output_type": "stream",
          "name": "stdout",
          "text": [
            "Found 5001 files belonging to 10 classes.\n"
          ]
        }
      ]
    },
    {
      "cell_type": "code",
      "source": [
        "class_names = data_set.class_names\n",
        "class_names"
      ],
      "metadata": {
        "colab": {
          "base_uri": "https://localhost:8080/"
        },
        "id": "oEz1JVVHqX8F",
        "outputId": "df1cfb76-935c-4e79-9f93-9eb464f2a30e"
      },
      "execution_count": 5,
      "outputs": [
        {
          "output_type": "execute_result",
          "data": {
            "text/plain": [
              "['Person 1',\n",
              " 'Person 10',\n",
              " 'Person 2',\n",
              " 'Person 3',\n",
              " 'Person 4',\n",
              " 'Person 5',\n",
              " 'Person 6',\n",
              " 'Person 7',\n",
              " 'Person 8',\n",
              " 'Person 9']"
            ]
          },
          "metadata": {},
          "execution_count": 5
        }
      ]
    },
    {
      "cell_type": "markdown",
      "source": [
        "## Data splitting"
      ],
      "metadata": {
        "id": "CGW80dLgtDgz"
      }
    },
    {
      "cell_type": "code",
      "source": [
        "def get_dataset_partitions_tf(data_set, train_split=0.8,  val_split=0.2, shuffle=True, shuffle_size=10000):\n",
        "    assert (train_split + val_split ) == 1\n",
        "\n",
        "    ds_size = len(data_set)\n",
        "\n",
        "    if shuffle:\n",
        "        data_set = data_set.shuffle(shuffle_size, seed=123)\n",
        "\n",
        "    train_size = int(train_split * ds_size)\n",
        "    val_size = int(val_split * ds_size)\n",
        "\n",
        "    train_ds = data_set.take(train_size)\n",
        "    val_ds = data_set.skip(train_size).take(val_size)\n",
        "\n",
        "    return train_ds, val_ds\n",
        "\n",
        "\n",
        "train_ds, val_ds = get_dataset_partitions_tf(data_set)\n",
        "\n",
        "print(len(train_ds))\n",
        "print(len(val_ds))"
      ],
      "metadata": {
        "colab": {
          "base_uri": "https://localhost:8080/"
        },
        "id": "mP_4UubbqfE1",
        "outputId": "284ff818-58eb-4b33-918a-977a53229c1c"
      },
      "execution_count": 6,
      "outputs": [
        {
          "output_type": "stream",
          "name": "stdout",
          "text": [
            "32\n",
            "8\n"
          ]
        }
      ]
    },
    {
      "cell_type": "markdown",
      "source": [
        "## Developing a model"
      ],
      "metadata": {
        "id": "L93G2IUytIcW"
      }
    },
    {
      "cell_type": "code",
      "source": [
        "model = Sequential()\n",
        "model.add(Rescaling(1./255, input_shape=input_shape))\n",
        "\n",
        "model.add(layers.Conv2D(16, 3, activation='relu', input_shape=input_shape))\n",
        "model.add(layers.MaxPooling2D())\n",
        "\n",
        "\n",
        "\n",
        "model.add(layers.Conv2D(32, 3, activation='relu'))\n",
        "model.add(layers.MaxPooling2D())\n",
        "\n",
        "\n",
        "model.add(layers.Conv2D(64, 3, activation='relu', input_shape=input_shape))\n",
        "model.add(layers.MaxPooling2D())\n",
        "model.add(layers.Dropout(0.2))\n",
        "\n",
        "\n",
        "model.add(layers.Flatten())\n",
        "model.add(layers.Dense(128, activation='relu'))\n",
        "model.add(layers.Dense(10,activation='softmax'))\n",
        "\n",
        "\n",
        "model.summary()"
      ],
      "metadata": {
        "colab": {
          "base_uri": "https://localhost:8080/"
        },
        "id": "pGE4Tcf-qm9-",
        "outputId": "2aac6923-53f9-4fb0-8a34-37ca9e10cc6f"
      },
      "execution_count": 7,
      "outputs": [
        {
          "output_type": "stream",
          "name": "stdout",
          "text": [
            "Model: \"sequential\"\n",
            "_________________________________________________________________\n",
            " Layer (type)                Output Shape              Param #   \n",
            "=================================================================\n",
            " rescaling (Rescaling)       (None, 256, 256, 3)       0         \n",
            "                                                                 \n",
            " conv2d (Conv2D)             (None, 254, 254, 16)      448       \n",
            "                                                                 \n",
            " max_pooling2d (MaxPooling2  (None, 127, 127, 16)      0         \n",
            " D)                                                              \n",
            "                                                                 \n",
            " conv2d_1 (Conv2D)           (None, 125, 125, 32)      4640      \n",
            "                                                                 \n",
            " max_pooling2d_1 (MaxPoolin  (None, 62, 62, 32)        0         \n",
            " g2D)                                                            \n",
            "                                                                 \n",
            " conv2d_2 (Conv2D)           (None, 60, 60, 64)        18496     \n",
            "                                                                 \n",
            " max_pooling2d_2 (MaxPoolin  (None, 30, 30, 64)        0         \n",
            " g2D)                                                            \n",
            "                                                                 \n",
            " dropout (Dropout)           (None, 30, 30, 64)        0         \n",
            "                                                                 \n",
            " flatten (Flatten)           (None, 57600)             0         \n",
            "                                                                 \n",
            " dense (Dense)               (None, 128)               7372928   \n",
            "                                                                 \n",
            " dense_1 (Dense)             (None, 10)                1290      \n",
            "                                                                 \n",
            "=================================================================\n",
            "Total params: 7397802 (28.22 MB)\n",
            "Trainable params: 7397802 (28.22 MB)\n",
            "Non-trainable params: 0 (0.00 Byte)\n",
            "_________________________________________________________________\n"
          ]
        }
      ]
    },
    {
      "cell_type": "code",
      "source": [
        "model.compile(optimizer='adam',loss='categorical_crossentropy',metrics=['accuracy'])"
      ],
      "metadata": {
        "id": "yDto09g9rXI-"
      },
      "execution_count": 8,
      "outputs": []
    },
    {
      "cell_type": "code",
      "source": [
        "history  = model.fit(\n",
        "    train_ds,\n",
        "    batch_size=128,\n",
        "    validation_data=val_ds,\n",
        "    validation_steps = 8,\n",
        "    verbose=1,\n",
        "    epochs=20,\n",
        ")"
      ],
      "metadata": {
        "colab": {
          "base_uri": "https://localhost:8080/"
        },
        "id": "gzHhlhwbrbRv",
        "outputId": "5c192669-6846-4076-9f90-ea6a15ce8b1a"
      },
      "execution_count": 9,
      "outputs": [
        {
          "output_type": "stream",
          "name": "stdout",
          "text": [
            "Epoch 1/20\n",
            "32/32 [==============================] - 1356s 17s/step - loss: 2.4131 - accuracy: 0.1350 - val_loss: 2.1807 - val_accuracy: 0.1514\n",
            "Epoch 2/20\n",
            "32/32 [==============================] - 701s 16s/step - loss: 1.9254 - accuracy: 0.3251 - val_loss: 1.5181 - val_accuracy: 0.4932\n",
            "Epoch 3/20\n",
            "32/32 [==============================] - 717s 17s/step - loss: 1.4646 - accuracy: 0.4848 - val_loss: 1.2105 - val_accuracy: 0.5723\n",
            "Epoch 4/20\n",
            "32/32 [==============================] - 714s 17s/step - loss: 1.1029 - accuracy: 0.6165 - val_loss: 0.9840 - val_accuracy: 0.6508\n",
            "Epoch 5/20\n",
            "32/32 [==============================] - 731s 17s/step - loss: 0.8624 - accuracy: 0.6970 - val_loss: 0.7208 - val_accuracy: 0.7359\n",
            "Epoch 6/20\n",
            "32/32 [==============================] - 721s 17s/step - loss: 0.6646 - accuracy: 0.7591 - val_loss: 0.5265 - val_accuracy: 0.8291\n",
            "Epoch 7/20\n",
            "32/32 [==============================] - 681s 15s/step - loss: 0.5270 - accuracy: 0.8217 - val_loss: 0.4041 - val_accuracy: 0.8613\n",
            "Epoch 8/20\n",
            "32/32 [==============================] - 728s 17s/step - loss: 0.4777 - accuracy: 0.8300 - val_loss: 0.3306 - val_accuracy: 0.8740\n",
            "Epoch 9/20\n",
            "32/32 [==============================] - 716s 17s/step - loss: 0.4040 - accuracy: 0.8597 - val_loss: 0.3619 - val_accuracy: 0.8762\n",
            "Epoch 10/20\n",
            "32/32 [==============================] - 683s 16s/step - loss: 0.3144 - accuracy: 0.8921 - val_loss: 0.2235 - val_accuracy: 0.9277\n",
            "Epoch 11/20\n",
            "32/32 [==============================] - 686s 16s/step - loss: 0.2373 - accuracy: 0.9210 - val_loss: 0.1930 - val_accuracy: 0.9482\n",
            "Epoch 12/20\n",
            "32/32 [==============================] - 724s 17s/step - loss: 0.2066 - accuracy: 0.9276 - val_loss: 0.1645 - val_accuracy: 0.9355\n",
            "Epoch 13/20\n",
            "32/32 [==============================] - 728s 17s/step - loss: 0.1916 - accuracy: 0.9386 - val_loss: 0.1419 - val_accuracy: 0.9619\n",
            "Epoch 14/20\n",
            "32/32 [==============================] - 720s 17s/step - loss: 0.1843 - accuracy: 0.9354 - val_loss: 0.1569 - val_accuracy: 0.9531\n",
            "Epoch 15/20\n",
            "32/32 [==============================] - 687s 16s/step - loss: 0.1718 - accuracy: 0.9429 - val_loss: 0.1027 - val_accuracy: 0.9678\n",
            "Epoch 16/20\n",
            "32/32 [==============================] - 679s 15s/step - loss: 0.1022 - accuracy: 0.9666 - val_loss: 0.0816 - val_accuracy: 0.9766\n",
            "Epoch 17/20\n",
            "32/32 [==============================] - 732s 17s/step - loss: 0.1099 - accuracy: 0.9650 - val_loss: 0.0726 - val_accuracy: 0.9805\n",
            "Epoch 18/20\n",
            "32/32 [==============================] - 728s 17s/step - loss: 0.0756 - accuracy: 0.9804 - val_loss: 0.0684 - val_accuracy: 0.9766\n",
            "Epoch 19/20\n",
            "32/32 [==============================] - 716s 17s/step - loss: 0.0523 - accuracy: 0.9869 - val_loss: 0.0398 - val_accuracy: 0.9902\n",
            "Epoch 20/20\n",
            "32/32 [==============================] - 724s 17s/step - loss: 0.1433 - accuracy: 0.9541 - val_loss: 0.0741 - val_accuracy: 0.9845\n"
          ]
        }
      ]
    },
    {
      "cell_type": "code",
      "source": [
        "model.save('/content/drive/MyDrive/ML Trained Models/Dtect_Confusion_FinalModel.h5')"
      ],
      "metadata": {
        "colab": {
          "base_uri": "https://localhost:8080/"
        },
        "id": "etq1LFW2rhtP",
        "outputId": "ceabde21-f427-4294-aeca-1fbe57de1078"
      },
      "execution_count": 10,
      "outputs": [
        {
          "output_type": "stream",
          "name": "stderr",
          "text": [
            "/usr/local/lib/python3.10/dist-packages/keras/src/engine/training.py:3103: UserWarning: You are saving your model as an HDF5 file via `model.save()`. This file format is considered legacy. We recommend using instead the native Keras format, e.g. `model.save('my_model.keras')`.\n",
            "  saving_api.save_model(\n"
          ]
        }
      ]
    },
    {
      "cell_type": "code",
      "source": [
        "train_loss, train_acc = model.evaluate(train_ds)\n",
        "print('Training accuracy:', train_acc)\n",
        "\n",
        "val_loss, val_acc = model.evaluate(val_ds)\n",
        "print('Validation accuracy:', val_acc)\n"
      ],
      "metadata": {
        "colab": {
          "base_uri": "https://localhost:8080/"
        },
        "id": "lcQ_aN-urvTE",
        "outputId": "3d20d3b0-23f3-4764-dcb4-0026aab2b151"
      },
      "execution_count": 11,
      "outputs": [
        {
          "output_type": "stream",
          "name": "stdout",
          "text": [
            "32/32 [==============================] - 297s 3s/step - loss: 0.0902 - accuracy: 0.9746\n",
            "Training accuracy: 0.974609375\n",
            "8/8 [==============================] - 217s 2s/step - loss: 0.0807 - accuracy: 0.9790\n",
            "Validation accuracy: 0.9790055155754089\n"
          ]
        }
      ]
    },
    {
      "cell_type": "code",
      "source": [
        "model = tf.keras.models.load_model('/content/drive/MyDrive/ML Trained Models/Dtect_Confusion_FinalModel.h5')"
      ],
      "metadata": {
        "id": "dwVsSkmVrxQs"
      },
      "execution_count": 12,
      "outputs": []
    },
    {
      "cell_type": "markdown",
      "source": [
        "## To print the confusion matrix of prediction"
      ],
      "metadata": {
        "id": "9nAM2GLas8Vf"
      }
    },
    {
      "cell_type": "code",
      "source": [
        "import numpy as np\n",
        "from sklearn.metrics import confusion_matrix\n",
        "import seaborn as sns\n",
        "import matplotlib.pyplot as plt\n",
        "\n",
        "# Get the true labels and predicted labels for the validation dataset\n",
        "true_labels = []\n",
        "predicted_labels = []\n",
        "\n",
        "for images, labels in val_ds:\n",
        "    true_labels.extend(np.argmax(labels, axis=1))\n",
        "    predicted_labels.extend(np.argmax(model.predict(images), axis=1))\n",
        "\n",
        "# Calculate the confusion matrix\n",
        "conf_matrix = confusion_matrix(true_labels, predicted_labels)\n",
        "\n",
        "# Plot the confusion matrix\n",
        "plt.figure(figsize=(10, 8))\n",
        "sns.heatmap(conf_matrix, annot=True, fmt='d', cmap='Blues', xticklabels=class_names, yticklabels=class_names)\n",
        "plt.xlabel('Predicted Labels')\n",
        "plt.ylabel('True Labels')\n",
        "plt.title('Confusion Matrix')\n",
        "plt.show()\n"
      ],
      "metadata": {
        "colab": {
          "base_uri": "https://localhost:8080/",
          "height": 912
        },
        "id": "-iDKHdwis6iI",
        "outputId": "cc993439-730b-49b8-af88-e0ed70c04ce3"
      },
      "execution_count": 13,
      "outputs": [
        {
          "output_type": "stream",
          "name": "stdout",
          "text": [
            "4/4 [==============================] - 2s 539ms/step\n",
            "4/4 [==============================] - 3s 717ms/step\n",
            "4/4 [==============================] - 2s 532ms/step\n",
            "4/4 [==============================] - 2s 542ms/step\n",
            "4/4 [==============================] - 2s 550ms/step\n",
            "4/4 [==============================] - 3s 635ms/step\n",
            "4/4 [==============================] - 4s 856ms/step\n",
            "4/4 [==============================] - 2s 543ms/step\n"
          ]
        },
        {
          "output_type": "display_data",
          "data": {
            "text/plain": [
              "<Figure size 1000x800 with 2 Axes>"
            ],
            "image/png": "[encoded data removed]"
          },
          "metadata": {}
        }
      ]
    }
  ]
}