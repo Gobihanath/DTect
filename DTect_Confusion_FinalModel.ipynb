{
  "nbformat": 4,
  "nbformat_minor": 0,
  "metadata": {
    "colab": {
      "provenance": [],
      "include_colab_link": true
    },
    "kernelspec": {
      "name": "python3",
      "display_name": "Python 3"
    },
    "language_info": {
      "name": "python"
    }
  },
  "cells": [
    {
      "cell_type": "markdown",
      "metadata": {
        "id": "view-in-github",
        "colab_type": "text"
      },
      "source": [
        "<a href=\"https://colab.research.google.com/github/Gobihanath/DTect/blob/main/DTect_Confusion_FinalModel.ipynb\" target=\"_parent\"><img src=\"https://colab.research.google.com/assets/colab-badge.svg\" alt=\"Open In Colab\"/></a>"
      ]
    },
    {
      "cell_type": "code",
      "execution_count": 1,
      "metadata": {
        "id": "x1qv_N4JgPst"
      },
      "outputs": [],
      "source": [
        "import numpy as np\n",
        "import pandas as pd\n",
        "import matplotlib.pyplot as plt\n",
        "import tensorflow as tf\n",
        "from tensorflow import keras\n",
        "from keras import layers\n",
        "from keras.models import Sequential\n",
        "from keras.layers import Conv2D, MaxPooling2D, Flatten, Dense, Dropout,BatchNormalization\n",
        "from keras.preprocessing import image\n",
        "from keras.preprocessing.image import ImageDataGenerator\n",
        "from tensorflow.keras.layers.experimental.preprocessing import Rescaling\n",
        "import cv2\n",
        "\n",
        "input_shape = (256,256, 3)"
      ]
    },
    {
      "cell_type": "code",
      "source": [
        "from google.colab import drive\n",
        "drive.mount('/content/drive')"
      ],
      "metadata": {
        "colab": {
          "base_uri": "https://localhost:8080/"
        },
        "id": "A2FBqLIDooaN",
        "outputId": "4176a174-f47e-4692-8ad2-9a0891e69667"
      },
      "execution_count": 2,
      "outputs": [
        {
          "output_type": "stream",
          "name": "stdout",
          "text": [
            "Mounted at /content/drive\n"
          ]
        }
      ]
    },
    {
      "cell_type": "code",
      "source": [
        "Image_Width = 256\n",
        "Image_Height = 256\n",
        "Image_Size = (Image_Width, Image_Height)\n",
        "Image_Channel = 3\n",
        "batch_size=128"
      ],
      "metadata": {
        "id": "4Opn94sRqN_I"
      },
      "execution_count": 3,
      "outputs": []
    },
    {
      "cell_type": "code",
      "source": [
        "data_set = tf.keras.preprocessing.image_dataset_from_directory(\n",
        "    \"/content/drive/MyDrive/Dataset/Dtect | Dataset | New\",\n",
        "    seed=123,         #If you want to ensure that the shuffling of your dataset is the same across different runs, you can keep the seed value constant. If you don't care about reproducibility, you can omit the seed parameter or use a different value for each run.\n",
        "    shuffle=True,\n",
        "    image_size=Image_Size,\n",
        "    batch_size=batch_size,\n",
        "    labels=\"inferred\",\n",
        "    label_mode=\"categorical\",\n",
        "    class_names=None,\n",
        "    color_mode=\"rgb\",\n",
        "    subset=None,\n",
        "    interpolation=\"bilinear\",\n",
        "    follow_links=False,\n",
        "    crop_to_aspect_ratio=False\n",
        ")"
      ],
      "metadata": {
        "colab": {
          "base_uri": "https://localhost:8080/"
        },
        "id": "lsGk4lEhqSW-",
        "outputId": "2dc688f9-47e6-4ec7-e142-414a9d31693d"
      },
      "execution_count": 4,
      "outputs": [
        {
          "output_type": "stream",
          "name": "stdout",
          "text": [
            "Found 5001 files belonging to 10 classes.\n"
          ]
        }
      ]
    },
    {
      "cell_type": "code",
      "source": [
        "class_names = data_set.class_names\n",
        "class_names"
      ],
      "metadata": {
        "colab": {
          "base_uri": "https://localhost:8080/"
        },
        "id": "oEz1JVVHqX8F",
        "outputId": "ec285a2e-d2e7-49de-bb0b-b7886975cec1"
      },
      "execution_count": 5,
      "outputs": [
        {
          "output_type": "execute_result",
          "data": {
            "text/plain": [
              "['Person 1',\n",
              " 'Person 10',\n",
              " 'Person 2',\n",
              " 'Person 3',\n",
              " 'Person 4',\n",
              " 'Person 5',\n",
              " 'Person 6',\n",
              " 'Person 7',\n",
              " 'Person 8',\n",
              " 'Person 9']"
            ]
          },
          "metadata": {},
          "execution_count": 5
        }
      ]
    },
    {
      "cell_type": "markdown",
      "source": [
        "## Data splitting"
      ],
      "metadata": {
        "id": "CGW80dLgtDgz"
      }
    },
    {
      "cell_type": "code",
      "source": [
        "def get_dataset_partitions_tf(data_set, train_split=0.8,  val_split=0.2, shuffle=True, shuffle_size=10000):\n",
        "    assert (train_split + val_split ) == 1\n",
        "\n",
        "    ds_size = len(data_set)\n",
        "\n",
        "    if shuffle:\n",
        "        data_set = data_set.shuffle(shuffle_size, seed=123)\n",
        "\n",
        "    train_size = int(train_split * ds_size)\n",
        "    val_size = int(val_split * ds_size)\n",
        "\n",
        "    train_ds = data_set.take(train_size)\n",
        "    val_ds = data_set.skip(train_size).take(val_size)\n",
        "\n",
        "    return train_ds, val_ds\n",
        "\n",
        "\n",
        "train_ds, val_ds = get_dataset_partitions_tf(data_set)\n",
        "\n",
        "print(len(train_ds))\n",
        "print(len(val_ds))"
      ],
      "metadata": {
        "colab": {
          "base_uri": "https://localhost:8080/"
        },
        "id": "mP_4UubbqfE1",
        "outputId": "b1126fe2-f4c8-44f6-9648-f6f12729ab06"
      },
      "execution_count": 6,
      "outputs": [
        {
          "output_type": "stream",
          "name": "stdout",
          "text": [
            "32\n",
            "8\n"
          ]
        }
      ]
    },
    {
      "cell_type": "markdown",
      "source": [
        "## Developing a model"
      ],
      "metadata": {
        "id": "L93G2IUytIcW"
      }
    },
    {
      "cell_type": "code",
      "source": [
        "model = Sequential()\n",
        "model.add(Rescaling(1./255, input_shape=input_shape))\n",
        "\n",
        "model.add(layers.Conv2D(16, 3, activation='relu', input_shape=input_shape))\n",
        "model.add(layers.MaxPooling2D())\n",
        "\n",
        "\n",
        "\n",
        "model.add(layers.Conv2D(32, 3, activation='relu'))\n",
        "model.add(layers.MaxPooling2D())\n",
        "\n",
        "\n",
        "model.add(layers.Conv2D(64, 3, activation='relu', input_shape=input_shape))\n",
        "model.add(layers.MaxPooling2D())\n",
        "model.add(layers.Dropout(0.2))\n",
        "\n",
        "\n",
        "model.add(layers.Flatten())\n",
        "model.add(layers.Dense(128, activation='relu'))\n",
        "model.add(layers.Dense(10,activation='softmax'))\n",
        "\n",
        "\n",
        "model.summary()"
      ],
      "metadata": {
        "colab": {
          "base_uri": "https://localhost:8080/"
        },
        "id": "pGE4Tcf-qm9-",
        "outputId": "434ade86-7d80-4c86-b306-89297f0b3cc9"
      },
      "execution_count": 7,
      "outputs": [
        {
          "output_type": "stream",
          "name": "stdout",
          "text": [
            "Model: \"sequential\"\n",
            "_________________________________________________________________\n",
            " Layer (type)                Output Shape              Param #   \n",
            "=================================================================\n",
            " rescaling (Rescaling)       (None, 256, 256, 3)       0         \n",
            "                                                                 \n",
            " conv2d (Conv2D)             (None, 254, 254, 16)      448       \n",
            "                                                                 \n",
            " max_pooling2d (MaxPooling2  (None, 127, 127, 16)      0         \n",
            " D)                                                              \n",
            "                                                                 \n",
            " conv2d_1 (Conv2D)           (None, 125, 125, 32)      4640      \n",
            "                                                                 \n",
            " max_pooling2d_1 (MaxPoolin  (None, 62, 62, 32)        0         \n",
            " g2D)                                                            \n",
            "                                                                 \n",
            " conv2d_2 (Conv2D)           (None, 60, 60, 64)        18496     \n",
            "                                                                 \n",
            " max_pooling2d_2 (MaxPoolin  (None, 30, 30, 64)        0         \n",
            " g2D)                                                            \n",
            "                                                                 \n",
            " dropout (Dropout)           (None, 30, 30, 64)        0         \n",
            "                                                                 \n",
            " flatten (Flatten)           (None, 57600)             0         \n",
            "                                                                 \n",
            " dense (Dense)               (None, 128)               7372928   \n",
            "                                                                 \n",
            " dense_1 (Dense)             (None, 10)                1290      \n",
            "                                                                 \n",
            "=================================================================\n",
            "Total params: 7397802 (28.22 MB)\n",
            "Trainable params: 7397802 (28.22 MB)\n",
            "Non-trainable params: 0 (0.00 Byte)\n",
            "_________________________________________________________________\n"
          ]
        }
      ]
    },
    {
      "cell_type": "code",
      "source": [
        "model.compile(optimizer='adam',loss='categorical_crossentropy',metrics=['accuracy'])"
      ],
      "metadata": {
        "id": "yDto09g9rXI-"
      },
      "execution_count": null,
      "outputs": []
    },
    {
      "cell_type": "code",
      "source": [
        "history  = model.fit(\n",
        "    train_ds,\n",
        "    batch_size=128,\n",
        "    validation_data=val_ds,\n",
        "    validation_steps = 8,\n",
        "    verbose=1,\n",
        "    epochs=20,\n",
        ")"
      ],
      "metadata": {
        "colab": {
          "base_uri": "https://localhost:8080/"
        },
        "id": "gzHhlhwbrbRv",
        "outputId": "5c192669-6846-4076-9f90-ea6a15ce8b1a"
      },
      "execution_count": null,
      "outputs": [
        {
          "output_type": "stream",
          "name": "stdout",
          "text": [
            "Epoch 1/20\n",
            "32/32 [==============================] - 1356s 17s/step - loss: 2.4131 - accuracy: 0.1350 - val_loss: 2.1807 - val_accuracy: 0.1514\n",
            "Epoch 2/20\n",
            "32/32 [==============================] - 701s 16s/step - loss: 1.9254 - accuracy: 0.3251 - val_loss: 1.5181 - val_accuracy: 0.4932\n",
            "Epoch 3/20\n",
            "32/32 [==============================] - 717s 17s/step - loss: 1.4646 - accuracy: 0.4848 - val_loss: 1.2105 - val_accuracy: 0.5723\n",
            "Epoch 4/20\n",
            "32/32 [==============================] - 714s 17s/step - loss: 1.1029 - accuracy: 0.6165 - val_loss: 0.9840 - val_accuracy: 0.6508\n",
            "Epoch 5/20\n",
            "32/32 [==============================] - 731s 17s/step - loss: 0.8624 - accuracy: 0.6970 - val_loss: 0.7208 - val_accuracy: 0.7359\n",
            "Epoch 6/20\n",
            "32/32 [==============================] - 721s 17s/step - loss: 0.6646 - accuracy: 0.7591 - val_loss: 0.5265 - val_accuracy: 0.8291\n",
            "Epoch 7/20\n",
            "32/32 [==============================] - 681s 15s/step - loss: 0.5270 - accuracy: 0.8217 - val_loss: 0.4041 - val_accuracy: 0.8613\n",
            "Epoch 8/20\n",
            "32/32 [==============================] - 728s 17s/step - loss: 0.4777 - accuracy: 0.8300 - val_loss: 0.3306 - val_accuracy: 0.8740\n",
            "Epoch 9/20\n",
            "32/32 [==============================] - 716s 17s/step - loss: 0.4040 - accuracy: 0.8597 - val_loss: 0.3619 - val_accuracy: 0.8762\n",
            "Epoch 10/20\n",
            "32/32 [==============================] - 683s 16s/step - loss: 0.3144 - accuracy: 0.8921 - val_loss: 0.2235 - val_accuracy: 0.9277\n",
            "Epoch 11/20\n",
            "32/32 [==============================] - 686s 16s/step - loss: 0.2373 - accuracy: 0.9210 - val_loss: 0.1930 - val_accuracy: 0.9482\n",
            "Epoch 12/20\n",
            "32/32 [==============================] - 724s 17s/step - loss: 0.2066 - accuracy: 0.9276 - val_loss: 0.1645 - val_accuracy: 0.9355\n",
            "Epoch 13/20\n",
            "32/32 [==============================] - 728s 17s/step - loss: 0.1916 - accuracy: 0.9386 - val_loss: 0.1419 - val_accuracy: 0.9619\n",
            "Epoch 14/20\n",
            "32/32 [==============================] - 720s 17s/step - loss: 0.1843 - accuracy: 0.9354 - val_loss: 0.1569 - val_accuracy: 0.9531\n",
            "Epoch 15/20\n",
            "32/32 [==============================] - 687s 16s/step - loss: 0.1718 - accuracy: 0.9429 - val_loss: 0.1027 - val_accuracy: 0.9678\n",
            "Epoch 16/20\n",
            "32/32 [==============================] - 679s 15s/step - loss: 0.1022 - accuracy: 0.9666 - val_loss: 0.0816 - val_accuracy: 0.9766\n",
            "Epoch 17/20\n",
            "32/32 [==============================] - 732s 17s/step - loss: 0.1099 - accuracy: 0.9650 - val_loss: 0.0726 - val_accuracy: 0.9805\n",
            "Epoch 18/20\n",
            "32/32 [==============================] - 728s 17s/step - loss: 0.0756 - accuracy: 0.9804 - val_loss: 0.0684 - val_accuracy: 0.9766\n",
            "Epoch 19/20\n",
            "32/32 [==============================] - 716s 17s/step - loss: 0.0523 - accuracy: 0.9869 - val_loss: 0.0398 - val_accuracy: 0.9902\n",
            "Epoch 20/20\n",
            "32/32 [==============================] - 724s 17s/step - loss: 0.1433 - accuracy: 0.9541 - val_loss: 0.0741 - val_accuracy: 0.9845\n"
          ]
        }
      ]
    },
    {
      "cell_type": "code",
      "source": [
        "model.save('/content/drive/MyDrive/ML Trained Models/Dtect_Confusion_FinalModel.h5')"
      ],
      "metadata": {
        "colab": {
          "base_uri": "https://localhost:8080/"
        },
        "id": "etq1LFW2rhtP",
        "outputId": "9650cb1f-8bcb-47ac-f4e3-e923b43bb004"
      },
      "execution_count": null,
      "outputs": [
        {
          "output_type": "stream",
          "name": "stderr",
          "text": [
            "/usr/local/lib/python3.10/dist-packages/keras/src/engine/training.py:3103: UserWarning: You are saving your model as an HDF5 file via `model.save()`. This file format is considered legacy. We recommend using instead the native Keras format, e.g. `model.save('my_model.keras')`.\n",
            "  saving_api.save_model(\n"
          ]
        }
      ]
    },
    {
      "cell_type": "code",
      "source": [
        "train_loss, train_acc = model.evaluate(train_ds)\n",
        "print('Training accuracy:', train_acc)\n",
        "\n",
        "val_loss, val_acc = model.evaluate(val_ds)\n",
        "print('Validation accuracy:', val_acc)\n"
      ],
      "metadata": {
        "colab": {
          "base_uri": "https://localhost:8080/"
        },
        "id": "lcQ_aN-urvTE",
        "outputId": "3d20d3b0-23f3-4764-dcb4-0026aab2b151"
      },
      "execution_count": null,
      "outputs": [
        {
          "output_type": "stream",
          "name": "stdout",
          "text": [
            "32/32 [==============================] - 297s 3s/step - loss: 0.0902 - accuracy: 0.9746\n",
            "Training accuracy: 0.974609375\n",
            "8/8 [==============================] - 217s 2s/step - loss: 0.0807 - accuracy: 0.9790\n",
            "Validation accuracy: 0.9790055155754089\n"
          ]
        }
      ]
    },
    {
      "cell_type": "code",
      "source": [
        "model = tf.keras.models.load_model('/content/drive/MyDrive/ML Trained Models/Dtect_Confusion_FinalModel.h5')"
      ],
      "metadata": {
        "id": "dwVsSkmVrxQs"
      },
      "execution_count": 9,
      "outputs": []
    },
    {
      "cell_type": "markdown",
      "source": [
        "## To print the confusion matrix of prediction"
      ],
      "metadata": {
        "id": "9nAM2GLas8Vf"
      }
    },
    {
      "cell_type": "code",
      "source": [
        "import numpy as np\n",
        "from sklearn.metrics import confusion_matrix\n",
        "import seaborn as sns\n",
        "import matplotlib.pyplot as plt\n",
        "\n",
        "# Get the true labels and predicted labels for the validation dataset\n",
        "true_labels = []\n",
        "predicted_labels = []\n",
        "\n",
        "for images, labels in val_ds:\n",
        "    true_labels.extend(np.argmax(labels, axis=1))\n",
        "    predicted_labels.extend(np.argmax(model.predict(images), axis=1))\n",
        "\n",
        "# Calculate the confusion matrix\n",
        "conf_matrix = confusion_matrix(true_labels, predicted_labels)\n",
        "\n",
        "# Plot the confusion matrix\n",
        "plt.figure(figsize=(10, 8))\n",
        "sns.heatmap(conf_matrix, annot=True, fmt='d', cmap='Blues', xticklabels=class_names, yticklabels=class_names)\n",
        "plt.xlabel('Predicted Labels')\n",
        "plt.ylabel('True Labels')\n",
        "plt.title('Confusion Matrix')\n",
        "plt.show()\n"
      ],
      "metadata": {
        "colab": {
          "base_uri": "https://localhost:8080/",
          "height": 912
        },
        "id": "-iDKHdwis6iI",
        "outputId": "da332b5c-f3bb-4d77-8385-3df91366b994"
      },
      "execution_count": 26,
      "outputs": [
        {
          "output_type": "stream",
          "name": "stdout",
          "text": [
            "4/4 [==============================] - 3s 585ms/step\n",
            "4/4 [==============================] - 2s 495ms/step\n",
            "4/4 [==============================] - 2s 501ms/step\n",
            "4/4 [==============================] - 2s 483ms/step\n",
            "4/4 [==============================] - 2s 591ms/step\n",
            "4/4 [==============================] - 3s 760ms/step\n",
            "4/4 [==============================] - 2s 491ms/step\n",
            "4/4 [==============================] - 2s 488ms/step\n"
          ]
        },
        {
          "output_type": "display_data",
          "data": {
            "text/plain": [
              "<Figure size 1000x800 with 2 Axes>"
            ],
            "image/png": "[encoded data removed]"
          },
          "metadata": {}
        }
      ]
    },
    {
      "cell_type": "markdown",
      "source": [
        "# Making Predictions 1"
      ],
      "metadata": {
        "id": "Ues2Unyz-RjF"
      }
    },
    {
      "cell_type": "code",
      "source": [
        "import numpy as np\n",
        "import tensorflow as tf\n",
        "\n",
        "def predict(model, img, class_names, confidence_threshold=0.5):\n",
        "    # Preprocess the image\n",
        "    img_array = tf.keras.preprocessing.image.img_to_array(img)\n",
        "    img_array = tf.expand_dims(img_array, 0)\n",
        "\n",
        "    # Make predictions\n",
        "    predictions = model.predict(img_array)\n",
        "\n",
        "    # Extract predicted class and confidence\n",
        "    predicted_class_index = np.argmax(predictions[0])\n",
        "    confidence = predictions[0][predicted_class_index]\n",
        "    predicted_class = class_names[predicted_class_index]\n",
        "\n",
        "    # Check if confidence is high enough\n",
        "    if confidence >= confidence_threshold:\n",
        "        verification_status = \"verified\"\n",
        "    else:\n",
        "        verification_status = \"not verified\"\n",
        "\n",
        "    return  predictions, predicted_class, confidence, verification_status"
      ],
      "metadata": {
        "id": "EzDkMBuoWNSg"
      },
      "execution_count": null,
      "outputs": []
    },
    {
      "cell_type": "markdown",
      "source": [
        "# Making Predictions 2"
      ],
      "metadata": {
        "id": "Ia4nzAcWXoHo"
      }
    },
    {
      "cell_type": "code",
      "source": [
        "class_names = ['Person 1',\n",
        " 'Person 10',\n",
        " 'Person 2',\n",
        " 'Person 3',\n",
        " 'Person 4',\n",
        " 'Person 5',\n",
        " 'Person 6',\n",
        " 'Person 7',\n",
        " 'Person 8',\n",
        " 'Person 9']"
      ],
      "metadata": {
        "id": "bgwoRsYYqmED"
      },
      "execution_count": 10,
      "outputs": []
    },
    {
      "cell_type": "code",
      "source": [
        "import numpy as np\n",
        "\n",
        "def predict_with_details(model, img, class_names):\n",
        "    # Preprocess the image\n",
        "    img_array = tf.keras.preprocessing.image.img_to_array(img)\n",
        "    img_array = tf.expand_dims(img_array, 0)\n",
        "\n",
        "    # Make predictions\n",
        "    predictions = model.predict(img_array)\n",
        "    predicted_class_index = np.argmax(predictions)\n",
        "    print(predicted_class_index)\n",
        "    print(predictions[0][predicted_class_index])\n",
        "    print(class_names[predicted_class_index])\n",
        "\n",
        "    # # Extract predicted class and confidence\n",
        "    # predicted_class_index = np.argmax(predictions[0])\n",
        "    # confidence = predictions[0][predicted_class_index]\n",
        "    # predicted_class = class_names[predicted_class_index]\n",
        "\n",
        "    # # Get the maximum value and its index\n",
        "    # max_value = np.max(predictions)\n",
        "    # max_index = np.argmax(predictions)\n",
        "\n",
        "    # return predictions, max_value, max_index, confidence, predicted_class\n",
        "    return None\n"
      ],
      "metadata": {
        "id": "RZhJ8of2U0He"
      },
      "execution_count": 11,
      "outputs": []
    },
    {
      "cell_type": "code",
      "source": [
        "# Load the sample image\n",
        "sample_image_path = '/content/drive/MyDrive/Dataset/DTect Testing/Person 1/WhatsApp Image 2024-03-04 at 20.27.43_db5a189d.jpg'\n",
        "img = tf.keras.preprocessing.image.load_img(sample_image_path, target_size=(256, 256))\n",
        "\n",
        "# Predict with details\n",
        "predict_with_details(model, img, class_names)#\n",
        "#predictions, max_value, max_index, confidence, predicted_class = predict_with_details(model, img, class_names)\n",
        "\n",
        "# # Print the results\n",
        "# print(\"Predictions Matrix:\")\n",
        "# print(predictions)\n",
        "# print(\"Maximum Value of Predictions:\", max_value)\n",
        "# print(\"Index of Maximum Value:\", max_index)\n",
        "# print(\"Confidence:\", confidence)\n",
        "# print(\"Predicted Class:\", predicted_class)\n"
      ],
      "metadata": {
        "colab": {
          "base_uri": "https://localhost:8080/"
        },
        "id": "qmIAGWa2U8i1",
        "outputId": "648d95b6-e2ff-475a-a043-6da7b4ea722b"
      },
      "execution_count": 16,
      "outputs": [
        {
          "output_type": "stream",
          "name": "stdout",
          "text": [
            "1/1 [==============================] - 0s 97ms/step\n",
            "0\n",
            "0.86739683\n",
            "Person 1\n"
          ]
        }
      ]
    },
    {
      "cell_type": "markdown",
      "source": [
        "# Create a dictionary"
      ],
      "metadata": {
        "id": "ZHqfiEnD-dFe"
      }
    },
    {
      "cell_type": "code",
      "source": [
        "class_dict = {\n",
        "    0: 'Person1',\n",
        "    1: 'Person10',\n",
        "    2: 'Person2',\n",
        "    3: 'Person3',\n",
        "    4: 'Person4',\n",
        "    5: 'Person5',\n",
        "    6: 'Person6',\n",
        "    7: 'Person7',\n",
        "    8: 'Person8',\n",
        "    9: 'Person9',\n",
        "}"
      ],
      "metadata": {
        "id": "iFGHKCa_-hF2"
      },
      "execution_count": 19,
      "outputs": []
    },
    {
      "cell_type": "code",
      "source": [
        "import numpy as np\n",
        "\n",
        "def predict_with_details(model, img, class_dict):\n",
        "    # Preprocess the image\n",
        "    img_array = tf.keras.preprocessing.image.img_to_array(img)\n",
        "    img_array = tf.expand_dims(img_array, 0)\n",
        "\n",
        "    # Make predictions\n",
        "    predictions = model.predict(img_array)\n",
        "\n",
        "    # Extract predicted class and confidence\n",
        "    predicted_class_index = np.argmax(predictions[0])\n",
        "    confidence = predictions[0][predicted_class_index]\n",
        "    predicted_class = class_dict[predicted_class_index]\n",
        "\n",
        "    # Get the maximum value and its index\n",
        "    max_value = np.max(predictions)\n",
        "    max_index = np.argmax(predictions)\n",
        "\n",
        "    return predictions, max_value, max_index, confidence, predicted_class"
      ],
      "metadata": {
        "id": "x_ZsrOlsBNwP"
      },
      "execution_count": 17,
      "outputs": []
    },
    {
      "cell_type": "code",
      "source": [
        "# Load the sample image\n",
        "sample_image_path = '/content/drive/MyDrive/Dataset/DTect Testing/WhatsApp Image 2024-03-01 at 09.53.01_9f4748a1.jpg'\n",
        "img = tf.keras.preprocessing.image.load_img(sample_image_path, target_size=(256, 256))\n",
        "\n",
        "# Predict with details\n",
        "predictions, max_value, max_index, confidence, predicted_class = predict_with_details(model, img, class_dict)\n",
        "\n",
        "# Print the results\n",
        "print(\"Predictions Matrix:\")\n",
        "print(predictions)\n",
        "print(\"Maximum Value of Predictions:\", max_value)\n",
        "print(\"Index of Maximum Value:\", max_index)\n",
        "print(\"Confidence:\", confidence)\n",
        "print(\"Confidence Percentage: {:.2f}%\".format(confidence * 100))\n",
        "print(\"Predicted Class:\", predicted_class)"
      ],
      "metadata": {
        "colab": {
          "base_uri": "https://localhost:8080/"
        },
        "id": "besImBtiBOYd",
        "outputId": "a9e4c064-7fbb-4a21-ec62-71a4d4e55c18"
      },
      "execution_count": 25,
      "outputs": [
        {
          "output_type": "stream",
          "name": "stdout",
          "text": [
            "1/1 [==============================] - 0s 60ms/step\n",
            "Predictions Matrix:\n",
            "[[8.7274998e-07 8.8516849e-01 2.5962188e-10 1.3557516e-06 2.4825824e-02\n",
            "  7.8100675e-06 1.3806137e-12 3.1587651e-06 8.9983568e-02 8.9153036e-06]]\n",
            "Maximum Value of Predictions: 0.8851685\n",
            "Index of Maximum Value: 1\n",
            "Confidence: 0.8851685\n",
            "Confidence Percentage: 88.52%\n",
            "Predicted Class: Person10\n"
          ]
        }
      ]
    }
  ]
}