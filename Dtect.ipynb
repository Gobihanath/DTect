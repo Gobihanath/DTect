{
  "nbformat": 4,
  "nbformat_minor": 0,
  "metadata": {
    "colab": {
      "provenance": [],
      "mount_file_id": "1-M9rDnzbwMQkE81knixerKFn6zQu8Ga9",
      "authorship_tag": "ABX9TyPFyDqJkaFKpyNkrjw0rHCT",
      "include_colab_link": true
    },
    "kernelspec": {
      "name": "python3",
      "display_name": "Python 3"
    },
    "language_info": {
      "name": "python"
    }
  },
  "cells": [
    {
      "cell_type": "markdown",
      "metadata": {
        "id": "view-in-github",
        "colab_type": "text"
      },
      "source": [
        "<a href=\"https://colab.research.google.com/github/Gobihanath/DTect/blob/main/Dtect.ipynb\" target=\"_parent\"><img src=\"https://colab.research.google.com/assets/colab-badge.svg\" alt=\"Open In Colab\"/></a>"
      ]
    },
    {
      "cell_type": "code",
      "execution_count": 1,
      "metadata": {
        "id": "hSS-NIPZHDwN"
      },
      "outputs": [],
      "source": [
        "import numpy as np\n",
        "import pandas as pd\n",
        "import tensorflow as tf\n",
        "from tensorflow import keras\n",
        "from keras import layers\n",
        "from keras.models import Sequential\n",
        "from keras.layers import Conv2D, MaxPooling2D, Flatten, Dense, Dropout,BatchNormalization\n",
        "from keras.preprocessing import image\n",
        "from keras.preprocessing.image import ImageDataGenerator\n",
        "\n",
        "input_shape = (512, 512, 3)    # 3 means the rgb format\n",
        "\n"
      ]
    },
    {
      "cell_type": "code",
      "source": [
        "from google.colab import drive\n",
        "drive.mount(\"/content/drive\")\n",
        "\n"
      ],
      "metadata": {
        "id": "DezADThWqQhY",
        "outputId": "9de575d8-fef1-457a-db6a-452b69be2dcb",
        "colab": {
          "base_uri": "https://localhost:8080/"
        }
      },
      "execution_count": 2,
      "outputs": [
        {
          "output_type": "stream",
          "name": "stdout",
          "text": [
            "Mounted at /content/drive\n"
          ]
        }
      ]
    },
    {
      "cell_type": "code",
      "source": [
        "data_set = '/content/drive/My Drive/Dataset'\n",
        "\n",
        "\n",
        "datagen = ImageDataGenerator()\n",
        "generator = datagen.flow_from_directory(data_set, class_mode='categorical', shuffle=True)\n",
        "\n",
        "# Extract the class labels\n",
        "classes = list(generator.class_indices.keys())\n",
        "\n",
        "print(\"Classes:\", classes)\n",
        "\n"
      ],
      "metadata": {
        "id": "O5ngrE6tuEuO",
        "colab": {
          "base_uri": "https://localhost:8080/"
        },
        "outputId": "897d8550-8456-4750-b3f6-2ea193929780"
      },
      "execution_count": 10,
      "outputs": [
        {
          "output_type": "stream",
          "name": "stdout",
          "text": [
            "Found 1200 images belonging to 6 classes.\n",
            "Classes: ['Bimesha 1', 'Bimesha 2', 'Gobi 1', 'Gobi 2', 'Gobi 3', 'Sajeeth1']\n"
          ]
        }
      ]
    },
    {
      "cell_type": "code",
      "source": [
        "Image_Width = 512\n",
        "Image_Height = 512\n",
        "Image_Size = (Image_Width, Image_Height)\n",
        "Image_Channel = 3\n",
        "batch_size=15"
      ],
      "metadata": {
        "id": "aeFL0VqZ0kq6"
      },
      "execution_count": null,
      "outputs": []
    },
    {
      "cell_type": "markdown",
      "source": [
        "# **Image Data Preprocessing**"
      ],
      "metadata": {
        "id": "TxCimNLQICOH"
      }
    },
    {
      "cell_type": "code",
      "source": [
        "train_datagen = ImageDataGenerator(rotation_range=15,\n",
        "                                  rescale=1./255,\n",
        "                                  shear_range=0.1,\n",
        "                                  zoom_range=0.2,\n",
        "                                  horizontal_flip=True,\n",
        "                                  width_shift_range=0.1,\n",
        "                                  height_shift_range=0.1,)\n",
        "\n",
        "train_generator = train_datagen.flow_from_directory('/content/drive/My Drive/Dataset/Training',\n",
        "                                              target_size=Image_Size,\n",
        "                                              batch_size=32,\n",
        "                                              class_mode = 'categorical')\n",
        "\n",
        "\n",
        "test_datagen = ImageDataGenerator(rescale=1./255)\n",
        "\n",
        "test_generator = test_datagen.flow_from_directory('/content/drive/My Drive/Dataset/Testing',\n",
        "                                                  target_size=Image_Size,\n",
        "                                                  batch_size = 32,\n",
        "                                                  class_mode='categorical')"
      ],
      "metadata": {
        "id": "oMUEO5r82IBA"
      },
      "execution_count": null,
      "outputs": []
    },
    {
      "cell_type": "markdown",
      "source": [
        "# Building The CNN model"
      ],
      "metadata": {
        "id": "VoZ8U-VOEyrk"
      }
    },
    {
      "cell_type": "code",
      "source": [
        "model = Sequential()\n",
        "\n",
        "# add convolutional layers with pooling and dropout\n",
        "model.add(Conv2D(32, (3, 3), activation='relu', input_shape=input_shape))\n",
        "model.add(MaxPooling2D((2, 2)))\n",
        "model.add(Dropout(0.25))\n",
        "model.add(Conv2D(64, (3, 3), activation='relu'))\n",
        "model.add(MaxPooling2D((2, 2)))\n",
        "model.add(Dropout(0.25))\n",
        "\n",
        "# flatten the output and add dense layers with dropout\n",
        "model.add(Flatten())\n",
        "model.add(Dense(128, activation='relu'))\n",
        "model.add(Dropout(0.5))\n",
        "\n",
        "#This is the output layer\n",
        "model.add(Dense(units=10, activation='softmax'))      #units=10 means we have 10 classes(signatures) softmax is used for\n",
        "\n",
        "# compile the model\n",
        "model.compile(optimizer='rmsprop', loss='binary_crossentropy', metrics=['accuracy'])\n",
        "\n",
        "# print the model summary\n",
        "model.summary()"
      ],
      "metadata": {
        "id": "gtQoICEME5P1"
      },
      "execution_count": null,
      "outputs": []
    }
  ]
}