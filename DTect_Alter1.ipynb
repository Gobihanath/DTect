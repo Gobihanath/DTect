{
  "nbformat": 4,
  "nbformat_minor": 0,
  "metadata": {
    "colab": {
      "provenance": [],
      "authorship_tag": "ABX9TyMnNdW7SFxPkyRanEv9ogDr",
      "include_colab_link": true
    },
    "kernelspec": {
      "name": "python3",
      "display_name": "Python 3"
    },
    "language_info": {
      "name": "python"
    }
  },
  "cells": [
    {
      "cell_type": "markdown",
      "metadata": {
        "id": "view-in-github",
        "colab_type": "text"
      },
      "source": [
        "<a href=\"https://colab.research.google.com/github/Gobihanath/DTect/blob/main/DTect_Alter1.ipynb\" target=\"_parent\"><img src=\"https://colab.research.google.com/assets/colab-badge.svg\" alt=\"Open In Colab\"/></a>"
      ]
    },
    {
      "cell_type": "code",
      "execution_count": null,
      "metadata": {
        "id": "Hgm-1_9NVKzi"
      },
      "outputs": [],
      "source": [
        "import numpy as np\n",
        "import pandas as pd\n",
        "import PIL\n",
        "import matplotlib.pyplot as plt\n",
        "import tensorflow as tf\n",
        "from tensorflow import keras\n",
        "from keras import layers\n",
        "from keras.models import Sequential\n",
        "from keras.layers import Conv2D, MaxPooling2D, Flatten, Dense, Dropout,BatchNormalization\n",
        "from keras.preprocessing import image\n",
        "from keras.preprocessing.image import ImageDataGenerator\n",
        "from tensorflow.keras.layers.experimental.preprocessing import Rescaling\n",
        "import cv2\n",
        "\n",
        "input_shape = (256,256 , 3)  # 3 means the rgb format"
      ]
    },
    {
      "cell_type": "code",
      "source": [
        "from google.colab import drive\n",
        "drive.mount(\"/content/drive\")"
      ],
      "metadata": {
        "colab": {
          "base_uri": "https://localhost:8080/"
        },
        "id": "2JD3Wd2hVsqp",
        "outputId": "c29fe1a0-2840-4778-d1f4-ba70822007dc"
      },
      "execution_count": null,
      "outputs": [
        {
          "output_type": "stream",
          "name": "stdout",
          "text": [
            "Drive already mounted at /content/drive; to attempt to forcibly remount, call drive.mount(\"/content/drive\", force_remount=True).\n"
          ]
        }
      ]
    },
    {
      "cell_type": "code",
      "source": [
        "Image_Width = 256\n",
        "Image_Height = 256\n",
        "Image_Size = (Image_Width, Image_Height)\n",
        "Image_Channel = 3\n",
        "batch_size=128"
      ],
      "metadata": {
        "id": "GLXudV8tVt3I"
      },
      "execution_count": null,
      "outputs": []
    },
    {
      "cell_type": "code",
      "source": [
        "data_set = tf.keras.preprocessing.image_dataset_from_directory(\n",
        "    \"/content/drive/MyDrive/Dataset/Dtect | Dataset | New\",\n",
        "    seed=123,         #If you want to ensure that the shuffling of your dataset is the same across different runs, you can keep the seed value constant. If you don't care about reproducibility, you can omit the seed parameter or use a different value for each run.\n",
        "    shuffle=True,\n",
        "    image_size=Image_Size,\n",
        "    batch_size=batch_size,\n",
        "    labels=\"inferred\",\n",
        "    label_mode=\"categorical\",\n",
        "    class_names=None,\n",
        "    color_mode=\"rgb\",\n",
        "    subset=None,\n",
        "    interpolation=\"bilinear\",\n",
        "    follow_links=False,\n",
        "    crop_to_aspect_ratio=False\n",
        ")"
      ],
      "metadata": {
        "colab": {
          "base_uri": "https://localhost:8080/"
        },
        "id": "4KwKUfDiVx0v",
        "outputId": "4613aad5-65b7-40b0-d627-b4f6ab37d78a"
      },
      "execution_count": null,
      "outputs": [
        {
          "output_type": "stream",
          "name": "stdout",
          "text": [
            "Found 5001 files belonging to 10 classes.\n"
          ]
        }
      ]
    },
    {
      "cell_type": "code",
      "source": [
        "class_names = data_set.class_names\n",
        "class_names"
      ],
      "metadata": {
        "colab": {
          "base_uri": "https://localhost:8080/"
        },
        "id": "-WSGWx4OV2DA",
        "outputId": "73e1b60e-5372-4926-b590-c4aa4eb2df4e"
      },
      "execution_count": null,
      "outputs": [
        {
          "output_type": "execute_result",
          "data": {
            "text/plain": [
              "['Person 1',\n",
              " 'Person 10',\n",
              " 'Person 2',\n",
              " 'Person 3',\n",
              " 'Person 4',\n",
              " 'Person 5',\n",
              " 'Person 6',\n",
              " 'Person 7',\n",
              " 'Person 8',\n",
              " 'Person 9']"
            ]
          },
          "metadata": {},
          "execution_count": 5
        }
      ]
    },
    {
      "cell_type": "code",
      "source": [
        "def get_dataset_partitions_tf(data_set, train_split=0.8,  val_split=0.2, shuffle=True, shuffle_size=10000):\n",
        "    assert (train_split + val_split ) == 1\n",
        "\n",
        "    ds_size = len(data_set)\n",
        "\n",
        "    if shuffle:\n",
        "        data_set = data_set.shuffle(shuffle_size, seed=123)\n",
        "\n",
        "    train_size = int(train_split * ds_size)\n",
        "    val_size = int(val_split * ds_size)\n",
        "\n",
        "    train_ds = data_set.take(train_size)\n",
        "    val_ds = data_set.skip(train_size).take(val_size)\n",
        "\n",
        "    return train_ds, val_ds"
      ],
      "metadata": {
        "id": "rNcvuT1dVzeh"
      },
      "execution_count": null,
      "outputs": []
    },
    {
      "cell_type": "code",
      "source": [
        "train_ds, val_ds = get_dataset_partitions_tf(data_set)\n",
        "\n",
        "print(len(train_ds))\n",
        "print(len(val_ds))"
      ],
      "metadata": {
        "colab": {
          "base_uri": "https://localhost:8080/"
        },
        "id": "szKWJEnMV5P2",
        "outputId": "16aa6010-7afc-4c18-cb0a-6b184afa164d"
      },
      "execution_count": null,
      "outputs": [
        {
          "output_type": "stream",
          "name": "stdout",
          "text": [
            "32\n",
            "8\n"
          ]
        }
      ]
    },
    {
      "cell_type": "code",
      "source": [
        "model = Sequential()\n",
        "model.add(Rescaling(1./255, input_shape=input_shape))\n",
        "\n",
        "model.add(layers.Conv2D(16, 3, activation='relu', input_shape=input_shape))\n",
        "model.add(layers.MaxPooling2D())\n",
        "\n",
        "\n",
        "\n",
        "model.add(layers.Conv2D(32, 3, activation='relu'))\n",
        "model.add(layers.MaxPooling2D())\n",
        "\n",
        "\n",
        "model.add(layers.Conv2D(64, 3, activation='relu', input_shape=input_shape))\n",
        "model.add(layers.MaxPooling2D())\n",
        "model.add(layers.Dropout(0.2))\n",
        "\n",
        "\n",
        "model.add(layers.Flatten())\n",
        "model.add(layers.Dense(128, activation='relu'))\n",
        "model.add(layers.Dense(10,activation='softmax'))\n",
        "\n",
        "\n",
        "model.summary()"
      ],
      "metadata": {
        "colab": {
          "base_uri": "https://localhost:8080/"
        },
        "id": "TzVb5CI5j_M_",
        "outputId": "0f053609-0676-4eab-a673-4b8de81f59dc"
      },
      "execution_count": null,
      "outputs": [
        {
          "output_type": "stream",
          "name": "stdout",
          "text": [
            "Model: \"sequential_2\"\n",
            "_________________________________________________________________\n",
            " Layer (type)                Output Shape              Param #   \n",
            "=================================================================\n",
            " rescaling_2 (Rescaling)     (None, 256, 256, 3)       0         \n",
            "                                                                 \n",
            " conv2d_6 (Conv2D)           (None, 254, 254, 16)      448       \n",
            "                                                                 \n",
            " max_pooling2d_6 (MaxPoolin  (None, 127, 127, 16)      0         \n",
            " g2D)                                                            \n",
            "                                                                 \n",
            " conv2d_7 (Conv2D)           (None, 125, 125, 32)      4640      \n",
            "                                                                 \n",
            " max_pooling2d_7 (MaxPoolin  (None, 62, 62, 32)        0         \n",
            " g2D)                                                            \n",
            "                                                                 \n",
            " conv2d_8 (Conv2D)           (None, 60, 60, 64)        18496     \n",
            "                                                                 \n",
            " max_pooling2d_8 (MaxPoolin  (None, 30, 30, 64)        0         \n",
            " g2D)                                                            \n",
            "                                                                 \n",
            " dropout_2 (Dropout)         (None, 30, 30, 64)        0         \n",
            "                                                                 \n",
            " flatten_2 (Flatten)         (None, 57600)             0         \n",
            "                                                                 \n",
            " dense_2 (Dense)             (None, 128)               7372928   \n",
            "                                                                 \n",
            " dense_3 (Dense)             (None, 10)                1290      \n",
            "                                                                 \n",
            "=================================================================\n",
            "Total params: 7397802 (28.22 MB)\n",
            "Trainable params: 7397802 (28.22 MB)\n",
            "Non-trainable params: 0 (0.00 Byte)\n",
            "_________________________________________________________________\n"
          ]
        }
      ]
    },
    {
      "cell_type": "code",
      "source": [
        "model.compile(optimizer='adam',loss='categorical_crossentropy',metrics=['accuracy'])"
      ],
      "metadata": {
        "id": "K0PrYw8gWCPg"
      },
      "execution_count": null,
      "outputs": []
    },
    {
      "cell_type": "code",
      "source": [
        "ACCURACY_THRESHOLD = 0.85\n",
        "\n",
        "class myCallback(tf.keras.callbacks.Callback):\n",
        "    def on_epoch_end(self, epoch, logs={}):\n",
        "        accuracy = logs.get('accuracy')  # Use 'accuracy' instead of 'acc'\n",
        "        if accuracy is not None and accuracy > ACCURACY_THRESHOLD:\n",
        "            print(\"\\nReached %2.2f%% accuracy, so stopping training!!\" % (ACCURACY_THRESHOLD * 100))\n",
        "            self.model.stop_training = True\n",
        "\n",
        "# Instantiate a callback object\n",
        "early_stopping = myCallback()"
      ],
      "metadata": {
        "id": "ougFWpJKWDPQ"
      },
      "execution_count": null,
      "outputs": []
    },
    {
      "cell_type": "code",
      "source": [
        "history  = model.fit(\n",
        "    train_ds,\n",
        "    batch_size=128,\n",
        "    validation_data=val_ds,\n",
        "    validation_steps = 8,\n",
        "    verbose=1,\n",
        "    epochs=20,\n",
        "    callbacks=[early_stopping]\n",
        ")"
      ],
      "metadata": {
        "colab": {
          "base_uri": "https://localhost:8080/"
        },
        "id": "Rj-nls5TWGPw",
        "outputId": "16a02a0a-89d4-4680-954d-0e613699c938"
      },
      "execution_count": null,
      "outputs": [
        {
          "output_type": "stream",
          "name": "stdout",
          "text": [
            "Epoch 1/20\n",
            "32/32 [==============================] - 728s 16s/step - loss: 2.3466 - accuracy: 0.1277 - val_loss: 2.1797 - val_accuracy: 0.2227\n",
            "Epoch 2/20\n",
            "32/32 [==============================] - 724s 16s/step - loss: 2.0324 - accuracy: 0.2942 - val_loss: 1.7285 - val_accuracy: 0.3926\n",
            "Epoch 3/20\n",
            "32/32 [==============================] - 710s 16s/step - loss: 1.5441 - accuracy: 0.4888 - val_loss: 1.3223 - val_accuracy: 0.5557\n",
            "Epoch 4/20\n",
            "32/32 [==============================] - 712s 16s/step - loss: 1.1567 - accuracy: 0.6047 - val_loss: 1.0172 - val_accuracy: 0.6453\n",
            "Epoch 5/20\n",
            "32/32 [==============================] - 721s 17s/step - loss: 0.7955 - accuracy: 0.7344 - val_loss: 0.6115 - val_accuracy: 0.7923\n",
            "Epoch 6/20\n",
            "32/32 [==============================] - 715s 16s/step - loss: 0.6107 - accuracy: 0.7885 - val_loss: 0.5647 - val_accuracy: 0.8066\n",
            "Epoch 7/20\n",
            "32/32 [==============================] - ETA: 0s - loss: 0.4328 - accuracy: 0.8542\n",
            "Reached 85.00% accuracy, so stopping training!!\n",
            "32/32 [==============================] - 714s 16s/step - loss: 0.4328 - accuracy: 0.8542 - val_loss: 0.3231 - val_accuracy: 0.9043\n"
          ]
        }
      ]
    },
    {
      "cell_type": "code",
      "execution_count": null,
      "metadata": {
        "colab": {
          "base_uri": "https://localhost:8080/"
        },
        "id": "qeLscJAYDLmE",
        "outputId": "3b502ee1-39bb-4438-d224-b05d39641f55"
      },
      "outputs": [
        {
          "output_type": "stream",
          "name": "stdout",
          "text": [
            "32/32 [==============================] - 288s 2s/step - loss: 0.3141 - accuracy: 0.9075\n",
            "Training accuracy: 0.9074679613113403\n",
            "8/8 [==============================] - 240s 4s/step - loss: 0.3286 - accuracy: 0.8965\n",
            "Validation accuracy: 0.896484375\n"
          ]
        }
      ],
      "source": [
        "train_loss, train_acc = model.evaluate(train_ds)\n",
        "print('Training accuracy:', train_acc)\n",
        "\n",
        "val_loss, val_acc = model.evaluate(val_ds)\n",
        "print('Validation accuracy:', val_acc)\n"
      ]
    },
    {
      "cell_type": "markdown",
      "source": [],
      "metadata": {
        "id": "KujljmK0FaVd"
      }
    },
    {
      "cell_type": "markdown",
      "source": [
        "# Checking the current learning rate"
      ],
      "metadata": {
        "id": "dSatJcRNFatS"
      }
    },
    {
      "cell_type": "code",
      "source": [
        "optimizer = model.optimizer\n",
        "\n",
        "# Get the learning rate from the optimizer's configuration\n",
        "learning_rate = optimizer.get_config()['learning_rate']\n",
        "print(\"Current learning rate:\", learning_rate)"
      ],
      "metadata": {
        "colab": {
          "base_uri": "https://localhost:8080/"
        },
        "id": "b-8uZQHIFV87",
        "outputId": "89fa4621-d350-44c4-c000-f277e701c57a"
      },
      "execution_count": null,
      "outputs": [
        {
          "output_type": "stream",
          "name": "stdout",
          "text": [
            "Current learning rate: 0.001\n"
          ]
        }
      ]
    },
    {
      "cell_type": "code",
      "source": [
        "model.save('/content/drive/MyDrive/ML Trained Models/Dtect_Alternation_Model_01.h5')"
      ],
      "metadata": {
        "colab": {
          "base_uri": "https://localhost:8080/"
        },
        "id": "0jSBYB2BWQp1",
        "outputId": "0d1b8468-8500-4539-f614-36ba08e48ff0"
      },
      "execution_count": null,
      "outputs": [
        {
          "output_type": "stream",
          "name": "stderr",
          "text": [
            "/usr/local/lib/python3.10/dist-packages/keras/src/engine/training.py:3103: UserWarning: You are saving your model as an HDF5 file via `model.save()`. This file format is considered legacy. We recommend using instead the native Keras format, e.g. `model.save('my_model.keras')`.\n",
            "  saving_api.save_model(\n"
          ]
        }
      ]
    },
    {
      "cell_type": "code",
      "source": [
        "import numpy as np\n",
        "import tensorflow as tf\n",
        "\n",
        "def predict(model, img, class_names, confidence_threshold=0.5):\n",
        "    # Preprocess the image\n",
        "    img_array = tf.keras.preprocessing.image.img_to_array(img)\n",
        "    img_array = tf.expand_dims(img_array, 0)\n",
        "\n",
        "    # Make predictions\n",
        "    predictions = model.predict(img_array)\n",
        "\n",
        "    # Extract predicted class and confidence\n",
        "    predicted_class_index = np.argmax(predictions[0])\n",
        "    confidence = predictions[0][predicted_class_index]\n",
        "    predicted_class = class_names[predicted_class_index]\n",
        "\n",
        "    # Check if confidence is high enough\n",
        "    if confidence >= confidence_threshold:\n",
        "        verification_status = \"verified\"\n",
        "    else:\n",
        "        verification_status = \"not verified\"\n",
        "\n",
        "    return predicted_class, confidence, verification_status"
      ],
      "metadata": {
        "id": "oZvM5DYfWXE2"
      },
      "execution_count": null,
      "outputs": []
    },
    {
      "cell_type": "code",
      "source": [
        "# Load the trained model\n",
        "model = tf.keras.models.load_model('/content/drive/MyDrive/ML Trained Models/Dtect_Alternation_Model_01.h5')\n",
        "\n",
        "# Define class names\n",
        "# Add your class names here\n",
        "\n",
        "# Load the image you want to predict\n",
        "img = tf.keras.preprocessing.image.load_img('/content/drive/MyDrive/T3.jpg', target_size=(256, 256))\n",
        "\n",
        "# Predict the image\n",
        "predicted_class, confidence, verification_status = predict(model, img, class_names)\n",
        "\n",
        "# Print the results\n",
        "print(\"Predicted class:\", predicted_class)\n",
        "print(\"Confidence:\", confidence)\n",
        "print(\"Verification status:\", verification_status)"
      ],
      "metadata": {
        "colab": {
          "base_uri": "https://localhost:8080/"
        },
        "id": "nDyROk5nWgsH",
        "outputId": "095acbd4-2a6c-42ec-a0b0-54adf5a7673e"
      },
      "execution_count": null,
      "outputs": [
        {
          "output_type": "stream",
          "name": "stdout",
          "text": [
            "1/1 [==============================] - 0s 178ms/step\n",
            "Predicted class: Person7\n",
            "Confidence: 0.6544799\n",
            "Verification status: verified\n"
          ]
        }
      ]
    }
  ]
}